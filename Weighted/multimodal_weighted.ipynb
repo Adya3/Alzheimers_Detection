{
 "cells": [
  {
   "cell_type": "code",
   "execution_count": 79,
   "metadata": {},
   "outputs": [],
   "source": [
    "import numpy as np\n",
    "from tensorflow.keras.models import load_model\n",
    "import lightgbm as lgb\n",
    "import pandas as pd\n",
    "import tensorflow as tf\n",
    "from sklearn.metrics import confusion_matrix\n",
    "import os\n",
    "import cv2\n",
    "import xgboost as xgb\n",
    "#import pandas_ml as pdml\n",
    "import os\n",
    "import pandas as pd\n"
   ]
  },
  {
   "cell_type": "code",
   "execution_count": 80,
   "metadata": {},
   "outputs": [
    {
     "name": "stdout",
     "output_type": "stream",
     "text": [
      "          PTID Class_Label                                         Image_File  \\\n",
      "0   002_S_0413          CN  [PREPROCESS_IMAGES/alzheimer_new_2/Axial\\CN\\CN...   \n",
      "1   002_S_0559          CN  [PREPROCESS_IMAGES/alzheimer_new_2/Axial\\CN\\CN...   \n",
      "2   002_S_0816          AD  [PREPROCESS_IMAGES/alzheimer_new_2/Axial\\AD\\AD...   \n",
      "3   002_S_1018          AD  [PREPROCESS_IMAGES/alzheimer_new_2/Axial\\AD\\AD...   \n",
      "4   002_S_1280          CN  [PREPROCESS_IMAGES/alzheimer_new_2/Axial\\CN\\CN...   \n",
      "..         ...         ...                                                ...   \n",
      "91  136_S_0300          AD  [PREPROCESS_IMAGES/alzheimer_new_2/Axial\\AD\\AD...   \n",
      "92  136_S_0426          AD  [PREPROCESS_IMAGES/alzheimer_new_2/Axial\\AD\\AD...   \n",
      "93  136_S_0429          CI  [PREPROCESS_IMAGES/alzheimer_new_2/Axial\\CI\\CI...   \n",
      "94  136_S_0579          CI  [PREPROCESS_IMAGES/alzheimer_new_2/Axial\\CI\\CI...   \n",
      "95  136_S_1227          CI  [PREPROCESS_IMAGES/alzheimer_new_2/Axial\\CI\\CI...   \n",
      "\n",
      "    Unnamed: 0  index   RID  Phase  Group  PTGENDER_-4.0  PTGENDER_1.0  ...  \\\n",
      "0            1      1   413  ADNI1    0.0          False         False  ...   \n",
      "1            2      2   559  ADNI1    0.0          False          True  ...   \n",
      "2            6      6   816  ADNI1    2.0          False          True  ...   \n",
      "3            9      9  1018  ADNI1    2.0          False         False  ...   \n",
      "4           11     11  1280  ADNI1    0.0          False         False  ...   \n",
      "..         ...    ...   ...    ...    ...            ...           ...  ...   \n",
      "91        1949   1949   300  ADNI1    2.0          False          True  ...   \n",
      "92        1950   1950   426  ADNI1    2.0          False          True  ...   \n",
      "93        1951   1951   429  ADNI1    1.0          False          True  ...   \n",
      "94        1952   1952   579  ADNI1    1.0          False         False  ...   \n",
      "95        1953   1953  1227  ADNI1    1.0          False         False  ...   \n",
      "\n",
      "    PHC_VSP  PHC_EXF  PHC_MEM    PTDOB  PHC_LAN     VISDATE  PTDOBYY  PTADBEG  \\\n",
      "0       NaN    1.480    1.287  12/1929    2.594  2006-04-06   1929.0     -4.0   \n",
      "1       NaN    1.176    0.768  01/1927    1.041  2006-05-11   1927.0     -4.0   \n",
      "2       NaN    0.220   -0.209  11/1935    0.465  2006-08-16   1935.0   2005.0   \n",
      "3       NaN    0.765   -0.265  03/1936    0.721  2006-11-21   1936.0   2005.0   \n",
      "4       NaN    1.589    1.095  05/1936    0.824  2007-01-31   1936.0     -4.0   \n",
      "..      ...      ...      ...      ...      ...         ...      ...      ...   \n",
      "91      NaN    1.092   -0.902  11/1949    0.535  2006-05-01   1949.0   2002.0   \n",
      "92   -0.041   -0.371   -0.444  09/1926    0.158  2006-05-08   1926.0   2004.0   \n",
      "93   -0.204   -0.349   -0.616  09/1943   -0.249  2006-06-05   1943.0     -4.0   \n",
      "94      NaN    1.709    1.069  01/1941    1.274  2006-06-19   1941.0     -4.0   \n",
      "95   -0.237    0.610    0.284  06/1942    0.727  2007-01-29   1942.0     -4.0   \n",
      "\n",
      "    PTCOGBEG  PTADDX  \n",
      "0        NaN     NaN  \n",
      "1        NaN     NaN  \n",
      "2        NaN     NaN  \n",
      "3        NaN     NaN  \n",
      "4        NaN     NaN  \n",
      "..       ...     ...  \n",
      "91       NaN     NaN  \n",
      "92       NaN     NaN  \n",
      "93       NaN     NaN  \n",
      "94       NaN     NaN  \n",
      "95       NaN     NaN  \n",
      "\n",
      "[96 rows x 125 columns]\n"
     ]
    }
   ],
   "source": [
    "\n",
    "clinical_data = pd.read_csv('clinical_best.csv')\n",
    "image_directory = 'PREPROCESS_IMAGES/alzheimer_new_2/Axial'\n",
    "ptids = []\n",
    "class_labels = []\n",
    "image_files = []\n",
    "\n",
    "for class_label in os.listdir(image_directory):\n",
    "    class_label_path = os.path.join(image_directory, class_label)\n",
    "    if os.path.isdir(class_label_path):\n",
    "        for file_name in os.listdir(class_label_path):\n",
    "            ptid = file_name[2:12] \n",
    "            #print(ptid)\n",
    "            ptids.append(ptid)\n",
    "            class_labels.append(class_label)\n",
    "            image_file = os.path.join(class_label_path, file_name)\n",
    "            image_files.append(image_file)\n",
    "            \n",
    "image_data = pd.DataFrame({'PTID': ptids, 'Class_Label': class_labels, 'Image_File': image_files})\n",
    "\n",
    "merged_data = pd.merge(clinical_data, image_data, on='PTID', how='inner')\n",
    "\n",
    "merged_data = merged_data.groupby('PTID', as_index=False).agg({'Class_Label': 'first', 'Image_File': list})\n",
    "merged_data = pd.merge(merged_data, clinical_data, on='PTID', how='left')\n",
    "\n",
    "\n",
    "filtered_image_data = image_data[image_data['PTID'].isin(merged_data['PTID'])]\n",
    "\n",
    "\n",
    "print(merged_data)\n"
   ]
  },
  {
   "cell_type": "code",
   "execution_count": 81,
   "metadata": {},
   "outputs": [
    {
     "name": "stdout",
     "output_type": "stream",
     "text": [
      "Class_Label\n",
      "CN    34\n",
      "AD    33\n",
      "CI    29\n",
      "Name: count, dtype: int64\n"
     ]
    }
   ],
   "source": [
    "class_counts=merged_data[\"Class_Label\"].value_counts()\n",
    "print(class_counts)"
   ]
  },
  {
   "cell_type": "markdown",
   "metadata": {},
   "source": [
    "IGNORE 3 CODE BLOCKS--NOT BEING USED"
   ]
  },
  {
   "cell_type": "code",
   "execution_count": 34,
   "metadata": {},
   "outputs": [
    {
     "name": "stdout",
     "output_type": "stream",
     "text": [
      "Found 5154 files belonging to 3 classes.\n",
      "Images shape: (5154, 128, 128, 1)\n",
      "Labels shape: (5154,)\n"
     ]
    }
   ],
   "source": []
  },
  {
   "cell_type": "code",
   "execution_count": 8,
   "metadata": {},
   "outputs": [],
   "source": [
    "clinical_data=pd.read_csv('augmented_clinical_data.csv').values"
   ]
  },
  {
   "cell_type": "code",
   "execution_count": 27,
   "metadata": {},
   "outputs": [
    {
     "name": "stdout",
     "output_type": "stream",
     "text": [
      "Found 5154 files belonging to 3 classes.\n"
     ]
    },
    {
     "data": {
      "text/plain": [
       "array([1, 0, 1, ..., 1, 1, 0])"
      ]
     },
     "execution_count": 27,
     "metadata": {},
     "output_type": "execute_result"
    }
   ],
   "source": [
    "root_folder = \"PREPROCESS_IMAGES/alzheimer_new_2/Axial\"  \n",
    "image_data, labels1 = load_images_with_labels(root_folder)\n",
    "labels = clinical_data[:,3].astype(int)\n",
    "labels"
   ]
  },
  {
   "cell_type": "markdown",
   "metadata": {},
   "source": [
    "CONTINUE--MODEL BUILDING AND MAKING PREDICTIONS-- try to use feature importance in case of xgb model"
   ]
  },
  {
   "cell_type": "code",
   "execution_count": 82,
   "metadata": {},
   "outputs": [
    {
     "data": {
      "text/html": [
       "<div>\n",
       "<style scoped>\n",
       "    .dataframe tbody tr th:only-of-type {\n",
       "        vertical-align: middle;\n",
       "    }\n",
       "\n",
       "    .dataframe tbody tr th {\n",
       "        vertical-align: top;\n",
       "    }\n",
       "\n",
       "    .dataframe thead th {\n",
       "        text-align: right;\n",
       "    }\n",
       "</style>\n",
       "<table border=\"1\" class=\"dataframe\">\n",
       "  <thead>\n",
       "    <tr style=\"text-align: right;\">\n",
       "      <th></th>\n",
       "      <th>Unnamed: 0</th>\n",
       "      <th>index</th>\n",
       "      <th>PTID</th>\n",
       "      <th>RID</th>\n",
       "      <th>Phase</th>\n",
       "      <th>Group</th>\n",
       "      <th>PTGENDER_-4.0</th>\n",
       "      <th>PTGENDER_1.0</th>\n",
       "      <th>PTGENDER_2.0</th>\n",
       "      <th>PTWORK_-4.0</th>\n",
       "      <th>...</th>\n",
       "      <th>PHC_VSP</th>\n",
       "      <th>PHC_EXF</th>\n",
       "      <th>PHC_MEM</th>\n",
       "      <th>PTDOB</th>\n",
       "      <th>PHC_LAN</th>\n",
       "      <th>VISDATE</th>\n",
       "      <th>PTDOBYY</th>\n",
       "      <th>PTADBEG</th>\n",
       "      <th>PTCOGBEG</th>\n",
       "      <th>PTADDX</th>\n",
       "    </tr>\n",
       "  </thead>\n",
       "  <tbody>\n",
       "    <tr>\n",
       "      <th>0</th>\n",
       "      <td>0</td>\n",
       "      <td>0</td>\n",
       "      <td>002_S_0295</td>\n",
       "      <td>295</td>\n",
       "      <td>ADNI1</td>\n",
       "      <td>0.0</td>\n",
       "      <td>False</td>\n",
       "      <td>True</td>\n",
       "      <td>False</td>\n",
       "      <td>True</td>\n",
       "      <td>...</td>\n",
       "      <td>0.483</td>\n",
       "      <td>0.554</td>\n",
       "      <td>1.357</td>\n",
       "      <td>06/1921</td>\n",
       "      <td>0.272</td>\n",
       "      <td>2006-04-04</td>\n",
       "      <td>1921.0</td>\n",
       "      <td>-4.0</td>\n",
       "      <td>NaN</td>\n",
       "      <td>NaN</td>\n",
       "    </tr>\n",
       "    <tr>\n",
       "      <th>1</th>\n",
       "      <td>1</td>\n",
       "      <td>1</td>\n",
       "      <td>002_S_0413</td>\n",
       "      <td>413</td>\n",
       "      <td>ADNI1</td>\n",
       "      <td>0.0</td>\n",
       "      <td>False</td>\n",
       "      <td>False</td>\n",
       "      <td>True</td>\n",
       "      <td>True</td>\n",
       "      <td>...</td>\n",
       "      <td>NaN</td>\n",
       "      <td>1.480</td>\n",
       "      <td>1.287</td>\n",
       "      <td>12/1929</td>\n",
       "      <td>2.594</td>\n",
       "      <td>2006-04-06</td>\n",
       "      <td>1929.0</td>\n",
       "      <td>-4.0</td>\n",
       "      <td>NaN</td>\n",
       "      <td>NaN</td>\n",
       "    </tr>\n",
       "    <tr>\n",
       "      <th>2</th>\n",
       "      <td>2</td>\n",
       "      <td>2</td>\n",
       "      <td>002_S_0559</td>\n",
       "      <td>559</td>\n",
       "      <td>ADNI1</td>\n",
       "      <td>0.0</td>\n",
       "      <td>False</td>\n",
       "      <td>True</td>\n",
       "      <td>False</td>\n",
       "      <td>True</td>\n",
       "      <td>...</td>\n",
       "      <td>NaN</td>\n",
       "      <td>1.176</td>\n",
       "      <td>0.768</td>\n",
       "      <td>01/1927</td>\n",
       "      <td>1.041</td>\n",
       "      <td>2006-05-11</td>\n",
       "      <td>1927.0</td>\n",
       "      <td>-4.0</td>\n",
       "      <td>NaN</td>\n",
       "      <td>NaN</td>\n",
       "    </tr>\n",
       "    <tr>\n",
       "      <th>3</th>\n",
       "      <td>3</td>\n",
       "      <td>3</td>\n",
       "      <td>002_S_0619</td>\n",
       "      <td>619</td>\n",
       "      <td>ADNI1</td>\n",
       "      <td>2.0</td>\n",
       "      <td>False</td>\n",
       "      <td>True</td>\n",
       "      <td>False</td>\n",
       "      <td>True</td>\n",
       "      <td>...</td>\n",
       "      <td>0.264</td>\n",
       "      <td>-0.509</td>\n",
       "      <td>-1.259</td>\n",
       "      <td>12/1928</td>\n",
       "      <td>0.116</td>\n",
       "      <td>2006-05-18</td>\n",
       "      <td>1928.0</td>\n",
       "      <td>1993.0</td>\n",
       "      <td>NaN</td>\n",
       "      <td>NaN</td>\n",
       "    </tr>\n",
       "    <tr>\n",
       "      <th>4</th>\n",
       "      <td>4</td>\n",
       "      <td>4</td>\n",
       "      <td>002_S_0685</td>\n",
       "      <td>685</td>\n",
       "      <td>ADNI1</td>\n",
       "      <td>0.0</td>\n",
       "      <td>False</td>\n",
       "      <td>False</td>\n",
       "      <td>True</td>\n",
       "      <td>True</td>\n",
       "      <td>...</td>\n",
       "      <td>NaN</td>\n",
       "      <td>0.111</td>\n",
       "      <td>0.149</td>\n",
       "      <td>11/1916</td>\n",
       "      <td>1.170</td>\n",
       "      <td>2006-06-22</td>\n",
       "      <td>1916.0</td>\n",
       "      <td>-4.0</td>\n",
       "      <td>NaN</td>\n",
       "      <td>NaN</td>\n",
       "    </tr>\n",
       "    <tr>\n",
       "      <th>...</th>\n",
       "      <td>...</td>\n",
       "      <td>...</td>\n",
       "      <td>...</td>\n",
       "      <td>...</td>\n",
       "      <td>...</td>\n",
       "      <td>...</td>\n",
       "      <td>...</td>\n",
       "      <td>...</td>\n",
       "      <td>...</td>\n",
       "      <td>...</td>\n",
       "      <td>...</td>\n",
       "      <td>...</td>\n",
       "      <td>...</td>\n",
       "      <td>...</td>\n",
       "      <td>...</td>\n",
       "      <td>...</td>\n",
       "      <td>...</td>\n",
       "      <td>...</td>\n",
       "      <td>...</td>\n",
       "      <td>...</td>\n",
       "      <td>...</td>\n",
       "    </tr>\n",
       "    <tr>\n",
       "      <th>2227</th>\n",
       "      <td>2227</td>\n",
       "      <td>2227</td>\n",
       "      <td>941_S_6580</td>\n",
       "      <td>6580</td>\n",
       "      <td>ADNI3</td>\n",
       "      <td>0.0</td>\n",
       "      <td>False</td>\n",
       "      <td>False</td>\n",
       "      <td>True</td>\n",
       "      <td>True</td>\n",
       "      <td>...</td>\n",
       "      <td>-0.583</td>\n",
       "      <td>-0.208</td>\n",
       "      <td>0.082</td>\n",
       "      <td>10/1938</td>\n",
       "      <td>0.159</td>\n",
       "      <td>2018-08-31</td>\n",
       "      <td>1938.0</td>\n",
       "      <td>NaN</td>\n",
       "      <td>9999.0</td>\n",
       "      <td>9999.0</td>\n",
       "    </tr>\n",
       "    <tr>\n",
       "      <th>2228</th>\n",
       "      <td>2228</td>\n",
       "      <td>2228</td>\n",
       "      <td>941_S_6581</td>\n",
       "      <td>6581</td>\n",
       "      <td>ADNI3</td>\n",
       "      <td>0.0</td>\n",
       "      <td>False</td>\n",
       "      <td>False</td>\n",
       "      <td>True</td>\n",
       "      <td>True</td>\n",
       "      <td>...</td>\n",
       "      <td>NaN</td>\n",
       "      <td>0.824</td>\n",
       "      <td>1.142</td>\n",
       "      <td>03/1944</td>\n",
       "      <td>1.281</td>\n",
       "      <td>2018-09-05</td>\n",
       "      <td>1944.0</td>\n",
       "      <td>NaN</td>\n",
       "      <td>9999.0</td>\n",
       "      <td>9999.0</td>\n",
       "    </tr>\n",
       "    <tr>\n",
       "      <th>2229</th>\n",
       "      <td>2229</td>\n",
       "      <td>2229</td>\n",
       "      <td>941_S_6607</td>\n",
       "      <td>6607</td>\n",
       "      <td>ADNI3</td>\n",
       "      <td>0.0</td>\n",
       "      <td>False</td>\n",
       "      <td>True</td>\n",
       "      <td>False</td>\n",
       "      <td>True</td>\n",
       "      <td>...</td>\n",
       "      <td>NaN</td>\n",
       "      <td>NaN</td>\n",
       "      <td>0.624</td>\n",
       "      <td>01/1936</td>\n",
       "      <td>NaN</td>\n",
       "      <td>2018-10-15</td>\n",
       "      <td>1936.0</td>\n",
       "      <td>NaN</td>\n",
       "      <td>9999.0</td>\n",
       "      <td>9999.0</td>\n",
       "    </tr>\n",
       "    <tr>\n",
       "      <th>2230</th>\n",
       "      <td>2230</td>\n",
       "      <td>2230</td>\n",
       "      <td>941_S_6803</td>\n",
       "      <td>6803</td>\n",
       "      <td>ADNI3</td>\n",
       "      <td>1.0</td>\n",
       "      <td>False</td>\n",
       "      <td>False</td>\n",
       "      <td>True</td>\n",
       "      <td>True</td>\n",
       "      <td>...</td>\n",
       "      <td>-0.041</td>\n",
       "      <td>-0.854</td>\n",
       "      <td>-0.604</td>\n",
       "      <td>08/1944</td>\n",
       "      <td>-0.147</td>\n",
       "      <td>2019-08-27</td>\n",
       "      <td>1944.0</td>\n",
       "      <td>NaN</td>\n",
       "      <td>2014.0</td>\n",
       "      <td>9999.0</td>\n",
       "    </tr>\n",
       "    <tr>\n",
       "      <th>2231</th>\n",
       "      <td>2231</td>\n",
       "      <td>2231</td>\n",
       "      <td>941_S_6854</td>\n",
       "      <td>6854</td>\n",
       "      <td>ADNI3</td>\n",
       "      <td>2.0</td>\n",
       "      <td>False</td>\n",
       "      <td>True</td>\n",
       "      <td>False</td>\n",
       "      <td>True</td>\n",
       "      <td>...</td>\n",
       "      <td>NaN</td>\n",
       "      <td>NaN</td>\n",
       "      <td>-0.988</td>\n",
       "      <td>11/1933</td>\n",
       "      <td>NaN</td>\n",
       "      <td>2020-02-04</td>\n",
       "      <td>1933.0</td>\n",
       "      <td>NaN</td>\n",
       "      <td>2013.0</td>\n",
       "      <td>2017.0</td>\n",
       "    </tr>\n",
       "  </tbody>\n",
       "</table>\n",
       "<p>2232 rows × 123 columns</p>\n",
       "</div>"
      ],
      "text/plain": [
       "      Unnamed: 0  index        PTID   RID  Phase  Group  PTGENDER_-4.0  \\\n",
       "0              0      0  002_S_0295   295  ADNI1    0.0          False   \n",
       "1              1      1  002_S_0413   413  ADNI1    0.0          False   \n",
       "2              2      2  002_S_0559   559  ADNI1    0.0          False   \n",
       "3              3      3  002_S_0619   619  ADNI1    2.0          False   \n",
       "4              4      4  002_S_0685   685  ADNI1    0.0          False   \n",
       "...          ...    ...         ...   ...    ...    ...            ...   \n",
       "2227        2227   2227  941_S_6580  6580  ADNI3    0.0          False   \n",
       "2228        2228   2228  941_S_6581  6581  ADNI3    0.0          False   \n",
       "2229        2229   2229  941_S_6607  6607  ADNI3    0.0          False   \n",
       "2230        2230   2230  941_S_6803  6803  ADNI3    1.0          False   \n",
       "2231        2231   2231  941_S_6854  6854  ADNI3    2.0          False   \n",
       "\n",
       "      PTGENDER_1.0  PTGENDER_2.0  PTWORK_-4.0  ...  PHC_VSP  PHC_EXF  PHC_MEM  \\\n",
       "0             True         False         True  ...    0.483    0.554    1.357   \n",
       "1            False          True         True  ...      NaN    1.480    1.287   \n",
       "2             True         False         True  ...      NaN    1.176    0.768   \n",
       "3             True         False         True  ...    0.264   -0.509   -1.259   \n",
       "4            False          True         True  ...      NaN    0.111    0.149   \n",
       "...            ...           ...          ...  ...      ...      ...      ...   \n",
       "2227         False          True         True  ...   -0.583   -0.208    0.082   \n",
       "2228         False          True         True  ...      NaN    0.824    1.142   \n",
       "2229          True         False         True  ...      NaN      NaN    0.624   \n",
       "2230         False          True         True  ...   -0.041   -0.854   -0.604   \n",
       "2231          True         False         True  ...      NaN      NaN   -0.988   \n",
       "\n",
       "        PTDOB  PHC_LAN     VISDATE  PTDOBYY  PTADBEG  PTCOGBEG  PTADDX  \n",
       "0     06/1921    0.272  2006-04-04   1921.0     -4.0       NaN     NaN  \n",
       "1     12/1929    2.594  2006-04-06   1929.0     -4.0       NaN     NaN  \n",
       "2     01/1927    1.041  2006-05-11   1927.0     -4.0       NaN     NaN  \n",
       "3     12/1928    0.116  2006-05-18   1928.0   1993.0       NaN     NaN  \n",
       "4     11/1916    1.170  2006-06-22   1916.0     -4.0       NaN     NaN  \n",
       "...       ...      ...         ...      ...      ...       ...     ...  \n",
       "2227  10/1938    0.159  2018-08-31   1938.0      NaN    9999.0  9999.0  \n",
       "2228  03/1944    1.281  2018-09-05   1944.0      NaN    9999.0  9999.0  \n",
       "2229  01/1936      NaN  2018-10-15   1936.0      NaN    9999.0  9999.0  \n",
       "2230  08/1944   -0.147  2019-08-27   1944.0      NaN    2014.0  9999.0  \n",
       "2231  11/1933      NaN  2020-02-04   1933.0      NaN    2013.0  2017.0  \n",
       "\n",
       "[2232 rows x 123 columns]"
      ]
     },
     "execution_count": 82,
     "metadata": {},
     "output_type": "execute_result"
    }
   ],
   "source": [
    "clinical_data"
   ]
  },
  {
   "cell_type": "code",
   "execution_count": 67,
   "metadata": {},
   "outputs": [],
   "source": [
    "clinical_data.dropna(inplace=True)"
   ]
  },
  {
   "cell_type": "code",
   "execution_count": 83,
   "metadata": {},
   "outputs": [
    {
     "name": "stderr",
     "output_type": "stream",
     "text": [
      "WARNING:absl:Compiled the loaded model, but the compiled metrics have yet to be built. `model.compile_metrics` will be empty until you train or evaluate the model.\n"
     ]
    },
    {
     "name": "stdout",
     "output_type": "stream",
     "text": [
      "(3232, 128, 128, 3)\n",
      "\u001b[1m101/101\u001b[0m \u001b[32m━━━━━━━━━━━━━━━━━━━━\u001b[0m\u001b[37m\u001b[0m \u001b[1m18s\u001b[0m 176ms/step\n"
     ]
    }
   ],
   "source": [
    "import cv2\n",
    "cnn_model = load_model('clf_model_final.h5')\n",
    "\n",
    "lgbm_model = lgb.Booster(model_file='lgbm_model.txt')\n",
    "\n",
    "xgbm_model = xgb.Booster()\n",
    "xgbm_model.load_model('xgbm_model.model')\n",
    "preprocessed_images = []\n",
    "\n",
    "import cv2\n",
    "import numpy as np\n",
    "\n",
    "preprocessed_images = []\n",
    "\n",
    "for index, row in merged_data.iterrows():\n",
    "    if isinstance(row['Image_File'], list) and any(pd.notna(image_path) for image_path in row['Image_File']):\n",
    "        for image_path in row['Image_File']:\n",
    "            image = cv2.imread(str(image_path), cv2.IMREAD_GRAYSCALE)\n",
    "            image_resized = cv2.resize(image, (128, 128))\n",
    "            image_rgb = cv2.cvtColor(image_resized, cv2.COLOR_GRAY2RGB)\n",
    "            image_normalized = image_rgb / 255.0\n",
    "            preprocessed_images.append(image_normalized)\n",
    "\n",
    "preprocessed_images = np.array(preprocessed_images)\n",
    "\n",
    "print(preprocessed_images.shape)\n",
    "\n",
    "clinical_data = merged_data.drop(columns=['PTID', 'Image_File','PTDOB','Phase','VISDATE','Class_Label','Group'])\n",
    "\n",
    "#clinical_data.dropna(axis=1, inplace=True)\n",
    "\n",
    "cnn_pred = cnn_model.predict(preprocessed_images)\n",
    "\n",
    "lgbm_preds = lgbm_model.predict(clinical_data)\n",
    "\n",
    "clinical_data_xg=xgb.DMatrix(clinical_data)\n",
    "\n",
    "xgbm_pred=xgbm_model.predict(clinical_data_xg)\n"
   ]
  },
  {
   "cell_type": "code",
   "execution_count": 104,
   "metadata": {},
   "outputs": [
    {
     "data": {
      "text/plain": [
       "array([[0.65603643, 0.25783164, 0.08613193],\n",
       "       [0.65603643, 0.25783164, 0.08613193],\n",
       "       [0.28824027, 0.3093672 , 0.40239253],\n",
       "       [0.63280625, 0.17069576, 0.196498  ],\n",
       "       [0.65603643, 0.25783164, 0.08613193],\n",
       "       [0.61658172, 0.29587635, 0.08754193],\n",
       "       [0.647595  , 0.26415924, 0.08824575],\n",
       "       [0.15042687, 0.18089003, 0.6686831 ],\n",
       "       [0.23066388, 0.63719993, 0.13213619],\n",
       "       [0.13466625, 0.16382578, 0.70150798],\n",
       "       [0.13507996, 0.12123512, 0.74368493],\n",
       "       [0.27745143, 0.57497975, 0.14756882],\n",
       "       [0.63085773, 0.28631608, 0.08282619],\n",
       "       [0.194047  , 0.66681083, 0.13914217],\n",
       "       [0.60775095, 0.30269088, 0.08955817],\n",
       "       [0.13854013, 0.19695548, 0.66450439],\n",
       "       [0.19603561, 0.66588067, 0.13808372],\n",
       "       [0.19691819, 0.67667718, 0.12640463],\n",
       "       [0.13507996, 0.12123512, 0.74368493],\n",
       "       [0.13507996, 0.12123512, 0.74368493],\n",
       "       [0.63085773, 0.28631608, 0.08282619],\n",
       "       [0.65603643, 0.25783164, 0.08613193],\n",
       "       [0.23351625, 0.33197822, 0.43450553],\n",
       "       [0.19691819, 0.67667718, 0.12640463],\n",
       "       [0.13507996, 0.12123512, 0.74368493],\n",
       "       [0.34034549, 0.53641177, 0.12324274],\n",
       "       [0.61778648, 0.29645447, 0.08575905],\n",
       "       [0.19691819, 0.67667718, 0.12640463],\n",
       "       [0.13507996, 0.12123512, 0.74368493],\n",
       "       [0.14061088, 0.19989937, 0.65948974],\n",
       "       [0.61658172, 0.29587635, 0.08754193],\n",
       "       [0.65603643, 0.25783164, 0.08613193],\n",
       "       [0.27068783, 0.3129651 , 0.41634707],\n",
       "       [0.20375872, 0.65419007, 0.14205121],\n",
       "       [0.45361253, 0.25093719, 0.29545027],\n",
       "       [0.13507996, 0.12123512, 0.74368493],\n",
       "       [0.194047  , 0.66681083, 0.13914217],\n",
       "       [0.23122715, 0.32872392, 0.44004893],\n",
       "       [0.23559743, 0.33107683, 0.43332574],\n",
       "       [0.65603643, 0.25783164, 0.08613193],\n",
       "       [0.63085773, 0.28631608, 0.08282619],\n",
       "       [0.23414914, 0.33287797, 0.43297289],\n",
       "       [0.647595  , 0.26415924, 0.08824575],\n",
       "       [0.26319365, 0.59993925, 0.13686711],\n",
       "       [0.20375872, 0.65419007, 0.14205121],\n",
       "       [0.31494942, 0.56668206, 0.11836852],\n",
       "       [0.57734721, 0.33306179, 0.089591  ],\n",
       "       [0.56485537, 0.34453258, 0.09061205],\n",
       "       [0.20375872, 0.65419007, 0.14205121],\n",
       "       [0.18422125, 0.69630852, 0.11947024],\n",
       "       [0.26195546, 0.59711685, 0.14092769],\n",
       "       [0.13507996, 0.12123512, 0.74368493],\n",
       "       [0.15023997, 0.23493314, 0.61482689],\n",
       "       [0.12411483, 0.22934197, 0.64654319],\n",
       "       [0.13507996, 0.12123512, 0.74368493],\n",
       "       [0.3230294 , 0.5599982 , 0.1169724 ],\n",
       "       [0.55963097, 0.34866909, 0.09169995],\n",
       "       [0.60051205, 0.30642351, 0.09306444],\n",
       "       [0.55963097, 0.34866909, 0.09169995],\n",
       "       [0.3230294 , 0.5599982 , 0.1169724 ],\n",
       "       [0.57331744, 0.33783261, 0.08884995],\n",
       "       [0.31494942, 0.56668206, 0.11836852],\n",
       "       [0.57331744, 0.33783261, 0.08884995],\n",
       "       [0.60051205, 0.30642351, 0.09306444],\n",
       "       [0.57215918, 0.33715009, 0.09069073],\n",
       "       [0.57331744, 0.33783261, 0.08884995],\n",
       "       [0.57331744, 0.33783261, 0.08884995],\n",
       "       [0.60051205, 0.30642351, 0.09306444],\n",
       "       [0.13924048, 0.21522367, 0.64553584],\n",
       "       [0.13586596, 0.21245622, 0.65167782],\n",
       "       [0.22387283, 0.35007426, 0.42605292],\n",
       "       [0.55963097, 0.34866909, 0.09169995],\n",
       "       [0.18422125, 0.69630852, 0.11947024],\n",
       "       [0.13507996, 0.12123512, 0.74368493],\n",
       "       [0.56419453, 0.34505582, 0.09074966],\n",
       "       [0.57331744, 0.33783261, 0.08884995],\n",
       "       [0.31494942, 0.56668206, 0.11836852],\n",
       "       [0.18422125, 0.69630852, 0.11947024],\n",
       "       [0.13507996, 0.12123512, 0.74368493],\n",
       "       [0.18365576, 0.68617088, 0.13017336],\n",
       "       [0.65182497, 0.24136837, 0.10680666],\n",
       "       [0.60051205, 0.30642351, 0.09306444],\n",
       "       [0.59155635, 0.31329289, 0.09515076],\n",
       "       [0.57331744, 0.33783261, 0.08884995],\n",
       "       [0.25608081, 0.33669653, 0.40722266],\n",
       "       [0.55963097, 0.34866909, 0.09169995],\n",
       "       [0.25842511, 0.33977883, 0.40179605],\n",
       "       [0.59155635, 0.31329289, 0.09515076],\n",
       "       [0.22387283, 0.35007426, 0.42605292],\n",
       "       [0.26111704, 0.5952057 , 0.14367726],\n",
       "       [0.13586596, 0.21245622, 0.65167782],\n",
       "       [0.59887087, 0.18162314, 0.21950598],\n",
       "       [0.13557515, 0.21200147, 0.65242337],\n",
       "       [0.18422125, 0.69630852, 0.11947024],\n",
       "       [0.60051205, 0.30642351, 0.09306444],\n",
       "       [0.55846417, 0.34794213, 0.0935937 ]])"
      ]
     },
     "execution_count": 104,
     "metadata": {},
     "output_type": "execute_result"
    }
   ],
   "source": [
    "lgbm_preds"
   ]
  },
  {
   "cell_type": "code",
   "execution_count": 105,
   "metadata": {},
   "outputs": [
    {
     "data": {
      "text/plain": [
       "<tf.Tensor: shape=(3232, 3), dtype=float32, numpy=\n",
       "array([[0.575742  , 0.21214055, 0.2121175 ],\n",
       "       [0.57610184, 0.2119458 , 0.21195237],\n",
       "       [0.57606447, 0.21195386, 0.21198173],\n",
       "       ...,\n",
       "       [0.21194386, 0.5761136 , 0.21194252],\n",
       "       [0.21194835, 0.57610637, 0.21194525],\n",
       "       [0.21196704, 0.5760251 , 0.21200784]], dtype=float32)>"
      ]
     },
     "execution_count": 105,
     "metadata": {},
     "output_type": "execute_result"
    }
   ],
   "source": [
    "cnn_pred"
   ]
  },
  {
   "cell_type": "code",
   "execution_count": 85,
   "metadata": {},
   "outputs": [],
   "source": [
    "pd.DataFrame(cnn_pred).to_csv(\"uniquecnn.csv\")\n",
    "pd.DataFrame(lgbm_preds).to_csv(\"uniquelgbm.csv\")\n",
    "pd.DataFrame(xgbm_pred).to_csv(\"uniquexgbm.csv\")\n"
   ]
  },
  {
   "cell_type": "code",
   "execution_count": 74,
   "metadata": {},
   "outputs": [
    {
     "data": {
      "text/plain": [
       "3232"
      ]
     },
     "execution_count": 74,
     "metadata": {},
     "output_type": "execute_result"
    }
   ],
   "source": [
    "len(cnn_pred)"
   ]
  },
  {
   "cell_type": "code",
   "execution_count": 75,
   "metadata": {},
   "outputs": [
    {
     "data": {
      "text/plain": [
       "3232"
      ]
     },
     "execution_count": 75,
     "metadata": {},
     "output_type": "execute_result"
    }
   ],
   "source": [
    "len(filtered_image_data)"
   ]
  },
  {
   "cell_type": "markdown",
   "metadata": {},
   "source": [
    "To get one label for all of the images of a single patient"
   ]
  },
  {
   "cell_type": "code",
   "execution_count": 86,
   "metadata": {},
   "outputs": [],
   "source": [
    "aggregated_predictions = {}\n",
    "for i, ptid in enumerate(filtered_image_data['PTID']):\n",
    "    if ptid not in aggregated_predictions:\n",
    "        aggregated_predictions[ptid] = cnn_pred[i]\n",
    "    else:\n",
    "        aggregated_predictions[ptid] += cnn_pred[i]\n",
    "\n",
    "for ptid in aggregated_predictions:\n",
    "    aggregated_predictions[ptid] /= len(image_data[image_data['PTID'] == ptid])"
   ]
  },
  {
   "cell_type": "code",
   "execution_count": 87,
   "metadata": {},
   "outputs": [
    {
     "data": {
      "text/plain": [
       "{'002_S_0816': array([9.9835384e-01, 3.5824307e-04, 1.2877497e-03], dtype=float32),\n",
       " '002_S_1018': array([0.98437506, 0.00851073, 0.00711426], dtype=float32),\n",
       " '005_S_0814': array([2.4978116e-01, 1.6678240e-04, 7.5005203e-01], dtype=float32),\n",
       " '007_S_1304': array([1.7006158e-05, 5.1618499e-06, 9.9997789e-01], dtype=float32),\n",
       " '012_S_0689': array([1.3897391e-05, 6.4353918e-07, 9.9998564e-01], dtype=float32),\n",
       " '018_S_0335': array([6.623981e-05, 5.743341e-09, 9.999336e-01], dtype=float32),\n",
       " '018_S_0633': array([0.7881152 , 0.00171335, 0.2101715 ], dtype=float32),\n",
       " '021_S_0753': array([0.48656535, 0.5091039 , 0.00433073], dtype=float32),\n",
       " '023_S_0139': array([0.503343  , 0.00201997, 0.49463686], dtype=float32),\n",
       " '023_S_0916': array([2.8880173e-01, 7.0235244e-04, 7.1049589e-01], dtype=float32),\n",
       " '023_S_1262': array([0.62222326, 0.34453088, 0.03324582], dtype=float32),\n",
       " '023_S_1289': array([0.00462274, 0.66813594, 0.32724145], dtype=float32),\n",
       " '027_S_0404': array([3.6796305e-01, 3.7202108e-04, 6.3166487e-01], dtype=float32),\n",
       " '027_S_1081': array([0.9975276 , 0.00145092, 0.00102141], dtype=float32),\n",
       " '027_S_1082': array([9.9238187e-01, 6.7556724e-03, 8.6252607e-04], dtype=float32),\n",
       " '027_S_1385': array([0.20517421, 0.00179508, 0.7930308 ], dtype=float32),\n",
       " '031_S_1209': array([1.4253829e-01, 3.8404934e-04, 8.5707766e-01], dtype=float32),\n",
       " '032_S_1101': array([9.9809051e-01, 1.5473251e-03, 3.6218436e-04], dtype=float32),\n",
       " '067_S_0812': array([9.9247348e-01, 7.3674251e-03, 1.5898449e-04], dtype=float32),\n",
       " '067_S_0828': array([9.954310e-01, 4.035286e-03, 5.336043e-04], dtype=float32),\n",
       " '067_S_1185': array([9.932152e-01, 6.563492e-03, 2.211872e-04], dtype=float32),\n",
       " '067_S_1253': array([0.96187264, 0.00350207, 0.03462525], dtype=float32),\n",
       " '116_S_0392': array([3.468303e-04, 9.392800e-05, 9.995591e-01], dtype=float32),\n",
       " '116_S_0487': array([1.6605706e-03, 3.6580220e-04, 9.9797356e-01], dtype=float32),\n",
       " '116_S_1083': array([8.9070863e-07, 9.4178453e-05, 9.9990493e-01], dtype=float32),\n",
       " '126_S_0606': array([0.00156253, 0.546404  , 0.45203343], dtype=float32),\n",
       " '127_S_0844': array([4.047617e-04, 6.771770e-01, 3.224182e-01], dtype=float32),\n",
       " '130_S_0956': array([9.0663275e-04, 6.4307370e-04, 9.9845034e-01], dtype=float32),\n",
       " '130_S_1337': array([2.0014137e-01, 4.9236411e-04, 7.9936635e-01], dtype=float32),\n",
       " '136_S_0194': array([9.9924713e-01, 3.2700205e-04, 4.2594597e-04], dtype=float32),\n",
       " '136_S_0299': array([0.24999401, 0.7484356 , 0.00157035], dtype=float32),\n",
       " '136_S_0300': array([5.0837748e-06, 9.9862951e-01, 1.3652828e-03], dtype=float32),\n",
       " '136_S_0426': array([0.00072247, 0.6796914 , 0.319586  ], dtype=float32),\n",
       " '005_S_0324': array([8.3776726e-04, 4.3012842e-04, 9.9873215e-01], dtype=float32),\n",
       " '012_S_1321': array([1.6996149e-04, 4.5685426e-04, 9.9937326e-01], dtype=float32),\n",
       " '016_S_1149': array([5.2284424e-05, 7.9750338e-05, 9.9986804e-01], dtype=float32),\n",
       " '023_S_0613': array([0.02335767, 0.79241985, 0.1842225 ], dtype=float32),\n",
       " '023_S_1046': array([0.36962447, 0.160519  , 0.4698566 ], dtype=float32),\n",
       " '023_S_1104': array([1.2093160e-05, 5.5348945e-01, 4.4649848e-01], dtype=float32),\n",
       " '027_S_0307': array([2.4239889e-04, 2.0976891e-03, 9.9765992e-01], dtype=float32),\n",
       " '027_S_0417': array([2.6203950e-06, 8.7480366e-01, 1.2519363e-01], dtype=float32),\n",
       " '027_S_1277': array([3.6998233e-04, 3.4882888e-01, 6.5080130e-01], dtype=float32),\n",
       " '051_S_1072': array([5.5138086e-04, 2.0797403e-05, 9.9942780e-01], dtype=float32),\n",
       " '051_S_1131': array([0.89104676, 0.00669597, 0.10225723], dtype=float32),\n",
       " '051_S_1338': array([0.22863033, 0.2841591 , 0.48721078], dtype=float32),\n",
       " '053_S_0507': array([6.435396e-03, 9.935575e-01, 7.241469e-06], dtype=float32),\n",
       " '067_S_0290': array([3.7487633e-05, 9.9996251e-01, 1.8541294e-09], dtype=float32),\n",
       " '067_S_0607': array([7.6293719e-01, 2.3645493e-01, 6.0789660e-04], dtype=float32),\n",
       " '068_S_0478': array([0.33645403, 0.63712704, 0.02641888], dtype=float32),\n",
       " '068_S_1075': array([1.2106084e-05, 9.4767809e-01, 5.2309774e-02], dtype=float32),\n",
       " '082_S_0469': array([0.01012865, 0.9885577 , 0.0013136 ], dtype=float32),\n",
       " '082_S_0928': array([0.02879963, 0.09397986, 0.8772205 ], dtype=float32),\n",
       " '094_S_1293': array([0.01683187, 0.00237585, 0.9807922 ], dtype=float32),\n",
       " '126_S_1340': array([5.9406548e-03, 2.2262006e-04, 9.9383688e-01], dtype=float32),\n",
       " '127_S_0393': array([1.7756026e-04, 5.3823118e-08, 9.9982238e-01], dtype=float32),\n",
       " '127_S_0397': array([0.01185086, 0.84914935, 0.1389999 ], dtype=float32),\n",
       " '128_S_1088': array([1.0289153e-02, 9.8881829e-01, 8.9254702e-04], dtype=float32),\n",
       " '130_S_0449': array([2.8153614e-04, 9.9962562e-01, 9.2943425e-05], dtype=float32),\n",
       " '130_S_0505': array([2.3405948e-04, 9.9848151e-01, 1.2844304e-03], dtype=float32),\n",
       " '136_S_0429': array([0.64631355, 0.35199803, 0.00168849], dtype=float32),\n",
       " '136_S_0579': array([9.9997181e-01, 2.7962386e-05, 1.4575343e-07], dtype=float32),\n",
       " '136_S_1227': array([1.5702595e-05, 9.9876058e-01, 1.2237479e-03], dtype=float32),\n",
       " '002_S_0413': array([0.45316747, 0.54536164, 0.00147101], dtype=float32),\n",
       " '002_S_0559': array([0.5884972 , 0.40910676, 0.00239585], dtype=float32),\n",
       " '002_S_1280': array([9.9930209e-01, 6.6725514e-04, 3.0609357e-05], dtype=float32),\n",
       " '005_S_0553': array([7.0812899e-01, 2.9185656e-01, 1.4352710e-05], dtype=float32),\n",
       " '007_S_1206': array([0.33994016, 0.65484697, 0.00521295], dtype=float32),\n",
       " '012_S_1009': array([0.99094564, 0.00163855, 0.00741569], dtype=float32),\n",
       " '012_S_1212': array([0.9327638 , 0.00270151, 0.06453471], dtype=float32),\n",
       " '018_S_0369': array([5.087291e-04, 9.011904e-04, 9.985900e-01], dtype=float32),\n",
       " '018_S_0425': array([0.7661442 , 0.00372021, 0.23013563], dtype=float32),\n",
       " '023_S_0031': array([0.33139348, 0.00155997, 0.66704655], dtype=float32),\n",
       " '023_S_0058': array([0.22599481, 0.6260863 , 0.14791891], dtype=float32),\n",
       " '023_S_0963': array([0.00185545, 0.543774  , 0.4543705 ], dtype=float32),\n",
       " '027_S_0403': array([0.24974282, 0.3166565 , 0.43360063], dtype=float32),\n",
       " '032_S_0479': array([9.9742681e-01, 3.8789143e-04, 2.1852732e-03], dtype=float32),\n",
       " '032_S_0677': array([8.2143104e-01, 1.7796656e-01, 6.0234487e-04], dtype=float32),\n",
       " '037_S_0303': array([5.0180227e-02, 9.4890064e-01, 9.1914152e-04], dtype=float32),\n",
       " '052_S_1250': array([0.37614506, 0.5227741 , 0.10108078], dtype=float32),\n",
       " '052_S_1251': array([0.48189902, 0.00102463, 0.5170762 ], dtype=float32),\n",
       " '068_S_1191': array([9.1713635e-05, 1.2774431e-04, 9.9978054e-01], dtype=float32),\n",
       " '082_S_0304': array([4.8611084e-01, 8.2808852e-05, 5.1380622e-01], dtype=float32),\n",
       " '082_S_0640': array([7.6318580e-01, 5.6201279e-06, 2.3680863e-01], dtype=float32),\n",
       " '082_S_1256': array([0.23809531, 0.00168448, 0.76022017], dtype=float32),\n",
       " '094_S_1241': array([1.6480732e-07, 2.2163771e-03, 9.9778348e-01], dtype=float32),\n",
       " '094_S_1267': array([3.7112306e-05, 3.6437635e-04, 9.9959850e-01], dtype=float32),\n",
       " '100_S_1286': array([4.2930646e-03, 7.4001530e-04, 9.9496686e-01], dtype=float32),\n",
       " '116_S_0382': array([2.2339253e-03, 1.4194820e-04, 9.9762398e-01], dtype=float32),\n",
       " '116_S_1232': array([1.00931395e-07, 1.71528052e-06, 9.99998271e-01], dtype=float32),\n",
       " '126_S_0405': array([7.2914098e-08, 1.3829216e-05, 9.9998605e-01], dtype=float32),\n",
       " '127_S_0260': array([7.2346875e-09, 2.5577609e-07, 9.9999976e-01], dtype=float32),\n",
       " '128_S_1242': array([7.3729124e-04, 9.4608706e-01, 5.3175662e-02], dtype=float32),\n",
       " '130_S_0886': array([4.0269975e-04, 9.9958271e-01, 1.4632352e-05], dtype=float32),\n",
       " '130_S_0969': array([4.4405726e-05, 9.9991173e-01, 4.3812022e-05], dtype=float32),\n",
       " '136_S_0086': array([0.09025381, 0.8542288 , 0.05551735], dtype=float32),\n",
       " '136_S_0196': array([0.00252269, 0.9814811 , 0.01599621], dtype=float32)}"
      ]
     },
     "execution_count": 87,
     "metadata": {},
     "output_type": "execute_result"
    }
   ],
   "source": [
    "aggregated_predictions"
   ]
  },
  {
   "cell_type": "code",
   "execution_count": 78,
   "metadata": {},
   "outputs": [
    {
     "data": {
      "text/plain": [
       "96"
      ]
     },
     "execution_count": 78,
     "metadata": {},
     "output_type": "execute_result"
    }
   ],
   "source": [
    "len(aggregated_predictions)"
   ]
  },
  {
   "cell_type": "code",
   "execution_count": 88,
   "metadata": {},
   "outputs": [],
   "source": [
    "patients_predictions = []\n",
    "for ptid in aggregated_predictions:\n",
    "    patients_predictions.append(aggregated_predictions[ptid])\n",
    "\n",
    "patients_predictions_array = np.array(patients_predictions)"
   ]
  },
  {
   "cell_type": "code",
   "execution_count": 33,
   "metadata": {},
   "outputs": [
    {
     "data": {
      "text/plain": [
       "96"
      ]
     },
     "execution_count": 33,
     "metadata": {},
     "output_type": "execute_result"
    }
   ],
   "source": [
    "len(patients_predictions_array)"
   ]
  },
  {
   "cell_type": "code",
   "execution_count": 212,
   "metadata": {},
   "outputs": [
    {
     "data": {
      "text/html": [
       "<div>\n",
       "<style scoped>\n",
       "    .dataframe tbody tr th:only-of-type {\n",
       "        vertical-align: middle;\n",
       "    }\n",
       "\n",
       "    .dataframe tbody tr th {\n",
       "        vertical-align: top;\n",
       "    }\n",
       "\n",
       "    .dataframe thead th {\n",
       "        text-align: right;\n",
       "    }\n",
       "</style>\n",
       "<table border=\"1\" class=\"dataframe\">\n",
       "  <thead>\n",
       "    <tr style=\"text-align: right;\">\n",
       "      <th></th>\n",
       "      <th>Unnamed: 0</th>\n",
       "      <th>index</th>\n",
       "      <th>RID</th>\n",
       "      <th>PTGENDER_-4.0</th>\n",
       "      <th>PTGENDER_1.0</th>\n",
       "      <th>PTGENDER_2.0</th>\n",
       "      <th>PTWORK_-4.0</th>\n",
       "      <th>PTHOME_-4.0</th>\n",
       "      <th>PTHOME_1.0</th>\n",
       "      <th>PTHOME_2.0</th>\n",
       "      <th>...</th>\n",
       "      <th>NXTENDON_2.0</th>\n",
       "      <th>AGE</th>\n",
       "      <th>PHC_VSP</th>\n",
       "      <th>PHC_EXF</th>\n",
       "      <th>PHC_MEM</th>\n",
       "      <th>PHC_LAN</th>\n",
       "      <th>PTDOBYY</th>\n",
       "      <th>PTADBEG</th>\n",
       "      <th>PTCOGBEG</th>\n",
       "      <th>PTADDX</th>\n",
       "    </tr>\n",
       "  </thead>\n",
       "  <tbody>\n",
       "    <tr>\n",
       "      <th>0</th>\n",
       "      <td>1</td>\n",
       "      <td>1</td>\n",
       "      <td>413</td>\n",
       "      <td>False</td>\n",
       "      <td>False</td>\n",
       "      <td>True</td>\n",
       "      <td>True</td>\n",
       "      <td>False</td>\n",
       "      <td>True</td>\n",
       "      <td>False</td>\n",
       "      <td>...</td>\n",
       "      <td>False</td>\n",
       "      <td>76.9528</td>\n",
       "      <td>NaN</td>\n",
       "      <td>1.48</td>\n",
       "      <td>1.287</td>\n",
       "      <td>2.594</td>\n",
       "      <td>1929.0</td>\n",
       "      <td>-4.0</td>\n",
       "      <td>NaN</td>\n",
       "      <td>NaN</td>\n",
       "    </tr>\n",
       "    <tr>\n",
       "      <th>1</th>\n",
       "      <td>1</td>\n",
       "      <td>1</td>\n",
       "      <td>413</td>\n",
       "      <td>False</td>\n",
       "      <td>False</td>\n",
       "      <td>True</td>\n",
       "      <td>True</td>\n",
       "      <td>False</td>\n",
       "      <td>True</td>\n",
       "      <td>False</td>\n",
       "      <td>...</td>\n",
       "      <td>False</td>\n",
       "      <td>76.9528</td>\n",
       "      <td>NaN</td>\n",
       "      <td>1.48</td>\n",
       "      <td>1.287</td>\n",
       "      <td>2.594</td>\n",
       "      <td>1929.0</td>\n",
       "      <td>-4.0</td>\n",
       "      <td>NaN</td>\n",
       "      <td>NaN</td>\n",
       "    </tr>\n",
       "    <tr>\n",
       "      <th>2</th>\n",
       "      <td>1</td>\n",
       "      <td>1</td>\n",
       "      <td>413</td>\n",
       "      <td>False</td>\n",
       "      <td>False</td>\n",
       "      <td>True</td>\n",
       "      <td>True</td>\n",
       "      <td>False</td>\n",
       "      <td>True</td>\n",
       "      <td>False</td>\n",
       "      <td>...</td>\n",
       "      <td>False</td>\n",
       "      <td>76.9528</td>\n",
       "      <td>NaN</td>\n",
       "      <td>1.48</td>\n",
       "      <td>1.287</td>\n",
       "      <td>2.594</td>\n",
       "      <td>1929.0</td>\n",
       "      <td>-4.0</td>\n",
       "      <td>NaN</td>\n",
       "      <td>NaN</td>\n",
       "    </tr>\n",
       "    <tr>\n",
       "      <th>3</th>\n",
       "      <td>1</td>\n",
       "      <td>1</td>\n",
       "      <td>413</td>\n",
       "      <td>False</td>\n",
       "      <td>False</td>\n",
       "      <td>True</td>\n",
       "      <td>True</td>\n",
       "      <td>False</td>\n",
       "      <td>True</td>\n",
       "      <td>False</td>\n",
       "      <td>...</td>\n",
       "      <td>False</td>\n",
       "      <td>76.9528</td>\n",
       "      <td>NaN</td>\n",
       "      <td>1.48</td>\n",
       "      <td>1.287</td>\n",
       "      <td>2.594</td>\n",
       "      <td>1929.0</td>\n",
       "      <td>-4.0</td>\n",
       "      <td>NaN</td>\n",
       "      <td>NaN</td>\n",
       "    </tr>\n",
       "    <tr>\n",
       "      <th>4</th>\n",
       "      <td>1</td>\n",
       "      <td>1</td>\n",
       "      <td>413</td>\n",
       "      <td>False</td>\n",
       "      <td>False</td>\n",
       "      <td>True</td>\n",
       "      <td>True</td>\n",
       "      <td>False</td>\n",
       "      <td>True</td>\n",
       "      <td>False</td>\n",
       "      <td>...</td>\n",
       "      <td>False</td>\n",
       "      <td>76.9528</td>\n",
       "      <td>NaN</td>\n",
       "      <td>1.48</td>\n",
       "      <td>1.287</td>\n",
       "      <td>2.594</td>\n",
       "      <td>1929.0</td>\n",
       "      <td>-4.0</td>\n",
       "      <td>NaN</td>\n",
       "      <td>NaN</td>\n",
       "    </tr>\n",
       "    <tr>\n",
       "      <th>...</th>\n",
       "      <td>...</td>\n",
       "      <td>...</td>\n",
       "      <td>...</td>\n",
       "      <td>...</td>\n",
       "      <td>...</td>\n",
       "      <td>...</td>\n",
       "      <td>...</td>\n",
       "      <td>...</td>\n",
       "      <td>...</td>\n",
       "      <td>...</td>\n",
       "      <td>...</td>\n",
       "      <td>...</td>\n",
       "      <td>...</td>\n",
       "      <td>...</td>\n",
       "      <td>...</td>\n",
       "      <td>...</td>\n",
       "      <td>...</td>\n",
       "      <td>...</td>\n",
       "      <td>...</td>\n",
       "      <td>...</td>\n",
       "      <td>...</td>\n",
       "    </tr>\n",
       "    <tr>\n",
       "      <th>3227</th>\n",
       "      <td>1953</td>\n",
       "      <td>1953</td>\n",
       "      <td>1227</td>\n",
       "      <td>False</td>\n",
       "      <td>False</td>\n",
       "      <td>True</td>\n",
       "      <td>True</td>\n",
       "      <td>False</td>\n",
       "      <td>True</td>\n",
       "      <td>False</td>\n",
       "      <td>...</td>\n",
       "      <td>True</td>\n",
       "      <td>65.2375</td>\n",
       "      <td>-0.237</td>\n",
       "      <td>0.61</td>\n",
       "      <td>0.284</td>\n",
       "      <td>0.727</td>\n",
       "      <td>1942.0</td>\n",
       "      <td>-4.0</td>\n",
       "      <td>NaN</td>\n",
       "      <td>NaN</td>\n",
       "    </tr>\n",
       "    <tr>\n",
       "      <th>3228</th>\n",
       "      <td>1953</td>\n",
       "      <td>1953</td>\n",
       "      <td>1227</td>\n",
       "      <td>False</td>\n",
       "      <td>False</td>\n",
       "      <td>True</td>\n",
       "      <td>True</td>\n",
       "      <td>False</td>\n",
       "      <td>True</td>\n",
       "      <td>False</td>\n",
       "      <td>...</td>\n",
       "      <td>True</td>\n",
       "      <td>65.2375</td>\n",
       "      <td>-0.237</td>\n",
       "      <td>0.61</td>\n",
       "      <td>0.284</td>\n",
       "      <td>0.727</td>\n",
       "      <td>1942.0</td>\n",
       "      <td>-4.0</td>\n",
       "      <td>NaN</td>\n",
       "      <td>NaN</td>\n",
       "    </tr>\n",
       "    <tr>\n",
       "      <th>3229</th>\n",
       "      <td>1953</td>\n",
       "      <td>1953</td>\n",
       "      <td>1227</td>\n",
       "      <td>False</td>\n",
       "      <td>False</td>\n",
       "      <td>True</td>\n",
       "      <td>True</td>\n",
       "      <td>False</td>\n",
       "      <td>True</td>\n",
       "      <td>False</td>\n",
       "      <td>...</td>\n",
       "      <td>True</td>\n",
       "      <td>65.2375</td>\n",
       "      <td>-0.237</td>\n",
       "      <td>0.61</td>\n",
       "      <td>0.284</td>\n",
       "      <td>0.727</td>\n",
       "      <td>1942.0</td>\n",
       "      <td>-4.0</td>\n",
       "      <td>NaN</td>\n",
       "      <td>NaN</td>\n",
       "    </tr>\n",
       "    <tr>\n",
       "      <th>3230</th>\n",
       "      <td>1953</td>\n",
       "      <td>1953</td>\n",
       "      <td>1227</td>\n",
       "      <td>False</td>\n",
       "      <td>False</td>\n",
       "      <td>True</td>\n",
       "      <td>True</td>\n",
       "      <td>False</td>\n",
       "      <td>True</td>\n",
       "      <td>False</td>\n",
       "      <td>...</td>\n",
       "      <td>True</td>\n",
       "      <td>65.2375</td>\n",
       "      <td>-0.237</td>\n",
       "      <td>0.61</td>\n",
       "      <td>0.284</td>\n",
       "      <td>0.727</td>\n",
       "      <td>1942.0</td>\n",
       "      <td>-4.0</td>\n",
       "      <td>NaN</td>\n",
       "      <td>NaN</td>\n",
       "    </tr>\n",
       "    <tr>\n",
       "      <th>3231</th>\n",
       "      <td>1953</td>\n",
       "      <td>1953</td>\n",
       "      <td>1227</td>\n",
       "      <td>False</td>\n",
       "      <td>False</td>\n",
       "      <td>True</td>\n",
       "      <td>True</td>\n",
       "      <td>False</td>\n",
       "      <td>True</td>\n",
       "      <td>False</td>\n",
       "      <td>...</td>\n",
       "      <td>True</td>\n",
       "      <td>65.2375</td>\n",
       "      <td>-0.237</td>\n",
       "      <td>0.61</td>\n",
       "      <td>0.284</td>\n",
       "      <td>0.727</td>\n",
       "      <td>1942.0</td>\n",
       "      <td>-4.0</td>\n",
       "      <td>NaN</td>\n",
       "      <td>NaN</td>\n",
       "    </tr>\n",
       "  </tbody>\n",
       "</table>\n",
       "<p>3232 rows × 118 columns</p>\n",
       "</div>"
      ],
      "text/plain": [
       "      Unnamed: 0  index   RID  PTGENDER_-4.0  PTGENDER_1.0  PTGENDER_2.0  \\\n",
       "0              1      1   413          False         False          True   \n",
       "1              1      1   413          False         False          True   \n",
       "2              1      1   413          False         False          True   \n",
       "3              1      1   413          False         False          True   \n",
       "4              1      1   413          False         False          True   \n",
       "...          ...    ...   ...            ...           ...           ...   \n",
       "3227        1953   1953  1227          False         False          True   \n",
       "3228        1953   1953  1227          False         False          True   \n",
       "3229        1953   1953  1227          False         False          True   \n",
       "3230        1953   1953  1227          False         False          True   \n",
       "3231        1953   1953  1227          False         False          True   \n",
       "\n",
       "      PTWORK_-4.0  PTHOME_-4.0  PTHOME_1.0  PTHOME_2.0  ...  NXTENDON_2.0  \\\n",
       "0            True        False        True       False  ...         False   \n",
       "1            True        False        True       False  ...         False   \n",
       "2            True        False        True       False  ...         False   \n",
       "3            True        False        True       False  ...         False   \n",
       "4            True        False        True       False  ...         False   \n",
       "...           ...          ...         ...         ...  ...           ...   \n",
       "3227         True        False        True       False  ...          True   \n",
       "3228         True        False        True       False  ...          True   \n",
       "3229         True        False        True       False  ...          True   \n",
       "3230         True        False        True       False  ...          True   \n",
       "3231         True        False        True       False  ...          True   \n",
       "\n",
       "          AGE  PHC_VSP  PHC_EXF  PHC_MEM  PHC_LAN  PTDOBYY  PTADBEG  PTCOGBEG  \\\n",
       "0     76.9528      NaN     1.48    1.287    2.594   1929.0     -4.0       NaN   \n",
       "1     76.9528      NaN     1.48    1.287    2.594   1929.0     -4.0       NaN   \n",
       "2     76.9528      NaN     1.48    1.287    2.594   1929.0     -4.0       NaN   \n",
       "3     76.9528      NaN     1.48    1.287    2.594   1929.0     -4.0       NaN   \n",
       "4     76.9528      NaN     1.48    1.287    2.594   1929.0     -4.0       NaN   \n",
       "...       ...      ...      ...      ...      ...      ...      ...       ...   \n",
       "3227  65.2375   -0.237     0.61    0.284    0.727   1942.0     -4.0       NaN   \n",
       "3228  65.2375   -0.237     0.61    0.284    0.727   1942.0     -4.0       NaN   \n",
       "3229  65.2375   -0.237     0.61    0.284    0.727   1942.0     -4.0       NaN   \n",
       "3230  65.2375   -0.237     0.61    0.284    0.727   1942.0     -4.0       NaN   \n",
       "3231  65.2375   -0.237     0.61    0.284    0.727   1942.0     -4.0       NaN   \n",
       "\n",
       "      PTADDX  \n",
       "0        NaN  \n",
       "1        NaN  \n",
       "2        NaN  \n",
       "3        NaN  \n",
       "4        NaN  \n",
       "...      ...  \n",
       "3227     NaN  \n",
       "3228     NaN  \n",
       "3229     NaN  \n",
       "3230     NaN  \n",
       "3231     NaN  \n",
       "\n",
       "[3232 rows x 118 columns]"
      ]
     },
     "execution_count": 212,
     "metadata": {},
     "output_type": "execute_result"
    }
   ],
   "source": [
    "clinical_data"
   ]
  },
  {
   "cell_type": "code",
   "execution_count": 207,
   "metadata": {},
   "outputs": [
    {
     "data": {
      "text/plain": [
       "(3232, 118)"
      ]
     },
     "execution_count": 207,
     "metadata": {},
     "output_type": "execute_result"
    }
   ],
   "source": [
    "clinical_data.shape"
   ]
  },
  {
   "cell_type": "code",
   "execution_count": null,
   "metadata": {},
   "outputs": [
    {
     "name": "stdout",
     "output_type": "stream",
     "text": [
      "1    2590\n",
      "0    1440\n",
      "2    1124\n",
      "Name: count, dtype: int64\n"
     ]
    }
   ],
   "source": [
    "label_counts = pd.Series(y).value_counts()\n",
    "print(label_counts)"
   ]
  },
  {
   "cell_type": "code",
   "execution_count": 7,
   "metadata": {},
   "outputs": [],
   "source": [
    "\n",
    "cnn_pred_save=pd.DataFrame(cnn_pred).to_csv(\"cnn_pred.csv\")\n",
    "lgbm_pred_save=pd.DataFrame(lgbm_preds).to_csv(\"lgbm_pred.csv\")\n",
    "xgbm_pred_save=pd.DataFrame(xgbm_pred).to_csv(\"xgbm_pred.csv\")"
   ]
  },
  {
   "cell_type": "code",
   "execution_count": 167,
   "metadata": {},
   "outputs": [
    {
     "data": {
      "text/plain": [
       "(3232, 128, 128, 3)"
      ]
     },
     "execution_count": 167,
     "metadata": {},
     "output_type": "execute_result"
    }
   ],
   "source": [
    "preprocessed_images.shape"
   ]
  },
  {
   "cell_type": "markdown",
   "metadata": {},
   "source": [
    "Just executing this once, else would have been done above--not needed --just for seeing shape"
   ]
  },
  {
   "cell_type": "code",
   "execution_count": 119,
   "metadata": {},
   "outputs": [
    {
     "data": {
      "text/plain": [
       "array([2, 2, 2, ..., 1, 1, 1], dtype=int64)"
      ]
     },
     "execution_count": 119,
     "metadata": {},
     "output_type": "execute_result"
    }
   ],
   "source": [
    "cnn_pred_labels = np.array([np.argmax(y_) for y_ in cnn_pred])\n",
    "cnn_pred_labels\n"
   ]
  },
  {
   "cell_type": "code",
   "execution_count": 80,
   "metadata": {},
   "outputs": [
    {
     "data": {
      "text/plain": [
       "(3232, 118)"
      ]
     },
     "execution_count": 80,
     "metadata": {},
     "output_type": "execute_result"
    }
   ],
   "source": [
    "clinical_data.shape\n"
   ]
  },
  {
   "cell_type": "markdown",
   "metadata": {},
   "source": [
    "IGNORE-- the predictions have already been made"
   ]
  },
  {
   "cell_type": "code",
   "execution_count": 89,
   "metadata": {},
   "outputs": [],
   "source": [
    "class_label_mapping = {'AD': 2, 'MCI': 1, 'CN': 0}\n",
    "merged_data['Class_Label'] = merged_data['Class_Label'].map(class_label_mapping)"
   ]
  },
  {
   "cell_type": "code",
   "execution_count": 90,
   "metadata": {},
   "outputs": [
    {
     "name": "stdout",
     "output_type": "stream",
     "text": [
      "\u001b[1m101/101\u001b[0m \u001b[32m━━━━━━━━━━━━━━━━━━━━\u001b[0m\u001b[37m\u001b[0m \u001b[1m17s\u001b[0m 164ms/step\n"
     ]
    }
   ],
   "source": [
    "clinical_data = merged_data.drop(columns=['PTID', 'Image_File','PTDOB','Phase','VISDATE','Class_Label','Group'])\n",
    "\n",
    "\n",
    "cnn_pred = cnn_model.predict(preprocessed_images)\n",
    "\n",
    "lgbm_preds = lgbm_model.predict(clinical_data)\n"
   ]
  },
  {
   "cell_type": "markdown",
   "metadata": {},
   "source": [
    "ANALYSING THE PREDICTIONS"
   ]
  },
  {
   "cell_type": "code",
   "execution_count": 13,
   "metadata": {},
   "outputs": [
    {
     "data": {
      "text/plain": [
       "array([[0.65603643, 0.25783164, 0.08613193],\n",
       "       [0.65603643, 0.25783164, 0.08613193],\n",
       "       [0.28824027, 0.3093672 , 0.40239253],\n",
       "       [0.63280625, 0.17069576, 0.196498  ],\n",
       "       [0.65603643, 0.25783164, 0.08613193],\n",
       "       [0.61658172, 0.29587635, 0.08754193],\n",
       "       [0.647595  , 0.26415924, 0.08824575],\n",
       "       [0.15042687, 0.18089003, 0.6686831 ],\n",
       "       [0.23066388, 0.63719993, 0.13213619],\n",
       "       [0.13466625, 0.16382578, 0.70150798],\n",
       "       [0.13507996, 0.12123512, 0.74368493],\n",
       "       [0.27745143, 0.57497975, 0.14756882],\n",
       "       [0.63085773, 0.28631608, 0.08282619],\n",
       "       [0.194047  , 0.66681083, 0.13914217],\n",
       "       [0.60775095, 0.30269088, 0.08955817],\n",
       "       [0.13854013, 0.19695548, 0.66450439],\n",
       "       [0.19603561, 0.66588067, 0.13808372],\n",
       "       [0.19691819, 0.67667718, 0.12640463],\n",
       "       [0.13507996, 0.12123512, 0.74368493],\n",
       "       [0.13507996, 0.12123512, 0.74368493],\n",
       "       [0.63085773, 0.28631608, 0.08282619],\n",
       "       [0.65603643, 0.25783164, 0.08613193],\n",
       "       [0.23351625, 0.33197822, 0.43450553],\n",
       "       [0.19691819, 0.67667718, 0.12640463],\n",
       "       [0.13507996, 0.12123512, 0.74368493],\n",
       "       [0.34034549, 0.53641177, 0.12324274],\n",
       "       [0.61778648, 0.29645447, 0.08575905],\n",
       "       [0.19691819, 0.67667718, 0.12640463],\n",
       "       [0.13507996, 0.12123512, 0.74368493],\n",
       "       [0.14061088, 0.19989937, 0.65948974],\n",
       "       [0.61658172, 0.29587635, 0.08754193],\n",
       "       [0.65603643, 0.25783164, 0.08613193],\n",
       "       [0.27068783, 0.3129651 , 0.41634707],\n",
       "       [0.20375872, 0.65419007, 0.14205121],\n",
       "       [0.45361253, 0.25093719, 0.29545027],\n",
       "       [0.13507996, 0.12123512, 0.74368493],\n",
       "       [0.194047  , 0.66681083, 0.13914217],\n",
       "       [0.23122715, 0.32872392, 0.44004893],\n",
       "       [0.23559743, 0.33107683, 0.43332574],\n",
       "       [0.65603643, 0.25783164, 0.08613193],\n",
       "       [0.63085773, 0.28631608, 0.08282619],\n",
       "       [0.23414914, 0.33287797, 0.43297289],\n",
       "       [0.647595  , 0.26415924, 0.08824575],\n",
       "       [0.26319365, 0.59993925, 0.13686711],\n",
       "       [0.20375872, 0.65419007, 0.14205121],\n",
       "       [0.31494942, 0.56668206, 0.11836852],\n",
       "       [0.57734721, 0.33306179, 0.089591  ],\n",
       "       [0.56485537, 0.34453258, 0.09061205],\n",
       "       [0.20375872, 0.65419007, 0.14205121],\n",
       "       [0.18422125, 0.69630852, 0.11947024],\n",
       "       [0.26195546, 0.59711685, 0.14092769],\n",
       "       [0.13507996, 0.12123512, 0.74368493],\n",
       "       [0.15023997, 0.23493314, 0.61482689],\n",
       "       [0.12411483, 0.22934197, 0.64654319],\n",
       "       [0.13507996, 0.12123512, 0.74368493],\n",
       "       [0.3230294 , 0.5599982 , 0.1169724 ],\n",
       "       [0.55963097, 0.34866909, 0.09169995],\n",
       "       [0.60051205, 0.30642351, 0.09306444],\n",
       "       [0.55963097, 0.34866909, 0.09169995],\n",
       "       [0.3230294 , 0.5599982 , 0.1169724 ],\n",
       "       [0.57331744, 0.33783261, 0.08884995],\n",
       "       [0.31494942, 0.56668206, 0.11836852],\n",
       "       [0.57331744, 0.33783261, 0.08884995],\n",
       "       [0.60051205, 0.30642351, 0.09306444],\n",
       "       [0.57215918, 0.33715009, 0.09069073],\n",
       "       [0.57331744, 0.33783261, 0.08884995],\n",
       "       [0.57331744, 0.33783261, 0.08884995],\n",
       "       [0.60051205, 0.30642351, 0.09306444],\n",
       "       [0.13924048, 0.21522367, 0.64553584],\n",
       "       [0.13586596, 0.21245622, 0.65167782],\n",
       "       [0.22387283, 0.35007426, 0.42605292],\n",
       "       [0.55963097, 0.34866909, 0.09169995],\n",
       "       [0.18422125, 0.69630852, 0.11947024],\n",
       "       [0.13507996, 0.12123512, 0.74368493],\n",
       "       [0.56419453, 0.34505582, 0.09074966],\n",
       "       [0.57331744, 0.33783261, 0.08884995],\n",
       "       [0.31494942, 0.56668206, 0.11836852],\n",
       "       [0.18422125, 0.69630852, 0.11947024],\n",
       "       [0.13507996, 0.12123512, 0.74368493],\n",
       "       [0.18365576, 0.68617088, 0.13017336],\n",
       "       [0.65182497, 0.24136837, 0.10680666],\n",
       "       [0.60051205, 0.30642351, 0.09306444],\n",
       "       [0.59155635, 0.31329289, 0.09515076],\n",
       "       [0.57331744, 0.33783261, 0.08884995],\n",
       "       [0.25608081, 0.33669653, 0.40722266],\n",
       "       [0.55963097, 0.34866909, 0.09169995],\n",
       "       [0.25842511, 0.33977883, 0.40179605],\n",
       "       [0.59155635, 0.31329289, 0.09515076],\n",
       "       [0.22387283, 0.35007426, 0.42605292],\n",
       "       [0.26111704, 0.5952057 , 0.14367726],\n",
       "       [0.13586596, 0.21245622, 0.65167782],\n",
       "       [0.59887087, 0.18162314, 0.21950598],\n",
       "       [0.13557515, 0.21200147, 0.65242337],\n",
       "       [0.18422125, 0.69630852, 0.11947024],\n",
       "       [0.60051205, 0.30642351, 0.09306444],\n",
       "       [0.55846417, 0.34794213, 0.0935937 ]])"
      ]
     },
     "execution_count": 13,
     "metadata": {},
     "output_type": "execute_result"
    }
   ],
   "source": [
    "lgbm_preds"
   ]
  },
  {
   "cell_type": "code",
   "execution_count": 238,
   "metadata": {},
   "outputs": [
    {
     "data": {
      "text/plain": [
       "array([[9.9897671e-01, 5.6596845e-04, 4.5732732e-04],\n",
       "       [9.9995899e-01, 4.9829773e-06, 3.5999510e-05],\n",
       "       [9.9985683e-01, 5.8040455e-06, 1.3728770e-04],\n",
       "       ...,\n",
       "       [7.6184165e-06, 9.9999106e-01, 1.2837530e-06],\n",
       "       [2.1637859e-05, 9.9997139e-01, 6.9874350e-06],\n",
       "       [2.8938684e-05, 9.9974960e-01, 2.2143488e-04]], dtype=float32)"
      ]
     },
     "execution_count": 238,
     "metadata": {},
     "output_type": "execute_result"
    }
   ],
   "source": [
    "cnn_pred"
   ]
  },
  {
   "cell_type": "code",
   "execution_count": 12,
   "metadata": {},
   "outputs": [
    {
     "data": {
      "text/plain": [
       "array([[0.56322557, 0.27638593, 0.1603885 ],\n",
       "       [0.5540834 , 0.28376406, 0.1621525 ],\n",
       "       [0.22479747, 0.24248566, 0.53271693],\n",
       "       [0.36006615, 0.19233516, 0.44759867],\n",
       "       [0.55344045, 0.2840479 , 0.16251168],\n",
       "       [0.37411922, 0.4373486 , 0.18853216],\n",
       "       [0.55153376, 0.2853866 , 0.16307966],\n",
       "       [0.16737331, 0.18128413, 0.6513425 ],\n",
       "       [0.31475365, 0.48820654, 0.19703975],\n",
       "       [0.14968011, 0.16336462, 0.6869553 ],\n",
       "       [0.14739823, 0.15966061, 0.6929411 ],\n",
       "       [0.30702507, 0.49546552, 0.19750935],\n",
       "       [0.53189284, 0.30670777, 0.16139941],\n",
       "       [0.23716809, 0.5433277 , 0.21950427],\n",
       "       [0.40332907, 0.4065131 , 0.19015785],\n",
       "       [0.15337054, 0.25017908, 0.5964504 ],\n",
       "       [0.56322557, 0.27638593, 0.1603885 ],\n",
       "       [0.22596525, 0.53856224, 0.23547255],\n",
       "       [0.14566441, 0.17316446, 0.6811712 ],\n",
       "       [0.1568511 , 0.17094037, 0.67220855],\n",
       "       [0.53744775, 0.29895043, 0.1636018 ],\n",
       "       [0.5153605 , 0.31451476, 0.17012477],\n",
       "       [0.17025983, 0.2556204 , 0.57411975],\n",
       "       [0.226971  , 0.5408563 , 0.23217268],\n",
       "       [0.14538059, 0.1712376 , 0.6833818 ],\n",
       "       [0.3466891 , 0.4644593 , 0.18885155],\n",
       "       [0.4754828 , 0.36033338, 0.1641839 ],\n",
       "       [0.22097892, 0.53865707, 0.24036397],\n",
       "       [0.15053912, 0.16378431, 0.6856766 ],\n",
       "       [0.15902917, 0.24911499, 0.5918559 ],\n",
       "       [0.40047133, 0.4167957 , 0.18273295],\n",
       "       [0.5448672 , 0.29283774, 0.16229501],\n",
       "       [0.19619031, 0.2694945 , 0.53431517],\n",
       "       [0.19448757, 0.55885226, 0.24666019],\n",
       "       [0.24042656, 0.23482576, 0.52474767],\n",
       "       [0.15470378, 0.1654415 , 0.67985475],\n",
       "       [0.242062  , 0.5421491 , 0.21578887],\n",
       "       [0.1635952 , 0.24802864, 0.58837616],\n",
       "       [0.18313248, 0.25329575, 0.56357175],\n",
       "       [0.5517246 , 0.2851393 , 0.1631361 ],\n",
       "       [0.5389834 , 0.29707044, 0.1639461 ],\n",
       "       [0.1729392 , 0.27224573, 0.5548151 ],\n",
       "       [0.54927325, 0.28831545, 0.16241127],\n",
       "       [0.26140186, 0.5385989 , 0.19999924],\n",
       "       [0.19569747, 0.56906384, 0.23523867],\n",
       "       [0.2986078 , 0.5033776 , 0.19801459],\n",
       "       [0.46434602, 0.36256558, 0.17308843],\n",
       "       [0.38802868, 0.43589592, 0.17607543],\n",
       "       [0.18872854, 0.56843406, 0.24283738],\n",
       "       [0.2127372 , 0.56182605, 0.2254367 ],\n",
       "       [0.31236267, 0.49843037, 0.18920691],\n",
       "       [0.16316664, 0.16513318, 0.67170024],\n",
       "       [0.18282816, 0.3406498 , 0.47652203],\n",
       "       [0.15035644, 0.16426966, 0.6853739 ],\n",
       "       [0.15415289, 0.16825256, 0.6775946 ],\n",
       "       [0.32813236, 0.48760703, 0.18426058],\n",
       "       [0.44972414, 0.384046  , 0.1662299 ],\n",
       "       [0.51812655, 0.31431788, 0.16755557],\n",
       "       [0.4474895 , 0.38754568, 0.16496484],\n",
       "       [0.32464904, 0.49126056, 0.18409042],\n",
       "       [0.46096188, 0.37545162, 0.16358648],\n",
       "       [0.26926923, 0.5361673 , 0.1945634 ],\n",
       "       [0.4539597 , 0.37686422, 0.16917609],\n",
       "       [0.47417617, 0.3470404 , 0.17878346],\n",
       "       [0.4454822 , 0.37809825, 0.17641959],\n",
       "       [0.43403152, 0.3923313 , 0.17363714],\n",
       "       [0.4691421 , 0.36242056, 0.16843733],\n",
       "       [0.51432407, 0.3200864 , 0.16558954],\n",
       "       [0.15697287, 0.279494  , 0.5635331 ],\n",
       "       [0.14879782, 0.27395558, 0.5772466 ],\n",
       "       [0.1671942 , 0.27021542, 0.56259036],\n",
       "       [0.42878288, 0.40242365, 0.16879345],\n",
       "       [0.22649066, 0.5536572 , 0.21985212],\n",
       "       [0.1475191 , 0.18031417, 0.67216676],\n",
       "       [0.45167488, 0.37575248, 0.17257264],\n",
       "       [0.47070718, 0.36121285, 0.16808   ],\n",
       "       [0.3210631 , 0.49649227, 0.1824446 ],\n",
       "       [0.22425587, 0.55850327, 0.21724088],\n",
       "       [0.15386014, 0.17202564, 0.6741142 ],\n",
       "       [0.24135768, 0.5477496 , 0.21089274],\n",
       "       [0.4616033 , 0.36225745, 0.1761393 ],\n",
       "       [0.4764819 , 0.34815004, 0.17536806],\n",
       "       [0.46311113, 0.3580833 , 0.17880553],\n",
       "       [0.44533813, 0.38153583, 0.173126  ],\n",
       "       [0.21046294, 0.31254265, 0.47699443],\n",
       "       [0.41050792, 0.4191968 , 0.17029522],\n",
       "       [0.218514  , 0.31015092, 0.47133508],\n",
       "       [0.5102156 , 0.32385677, 0.1659277 ],\n",
       "       [0.15368837, 0.2679196 , 0.578392  ],\n",
       "       [0.2752561 , 0.52655166, 0.19819225],\n",
       "       [0.1528381 , 0.26092276, 0.58623916],\n",
       "       [0.36847574, 0.213069  , 0.4184553 ],\n",
       "       [0.1507214 , 0.26488927, 0.5843893 ],\n",
       "       [0.20637308, 0.57116777, 0.22245917],\n",
       "       [0.499719  , 0.33168465, 0.16859633],\n",
       "       [0.39392126, 0.43028224, 0.17579646]], dtype=float32)"
      ]
     },
     "execution_count": 12,
     "metadata": {},
     "output_type": "execute_result"
    }
   ],
   "source": [
    "xgbm_pred"
   ]
  },
  {
   "cell_type": "markdown",
   "metadata": {},
   "source": [
    "USE PREDICTIONS TO GET WEIGHTED AVERAGE\n",
    "ALTER AS NEEDED"
   ]
  },
  {
   "cell_type": "code",
   "execution_count": 98,
   "metadata": {},
   "outputs": [],
   "source": [
    "\n",
    "cnn_weight = 0.4\n",
    "lgbm_weight =0.6\n",
    "#xgbm_weight=0.6"
   ]
  },
  {
   "cell_type": "code",
   "execution_count": 36,
   "metadata": {},
   "outputs": [
    {
     "data": {
      "text/plain": [
       "<tf.Tensor: shape=(96, 3), dtype=float32, numpy=\n",
       "array([[0.78329825, 0.1082501 , 0.10845172],\n",
       "       [0.7751934 , 0.11256459, 0.11224208],\n",
       "       [0.22484446, 0.1414296 , 0.63372594],\n",
       "       [0.11076509, 0.11076247, 0.77847236],\n",
       "       [0.11037184, 0.11036891, 0.7792593 ],\n",
       "       [0.10881405, 0.10879964, 0.7823863 ],\n",
       "       [0.6639645 , 0.1377483 , 0.19828711],\n",
       "       [0.40507913, 0.43603632, 0.15888461],\n",
       "       [0.42256218, 0.15694493, 0.4204929 ],\n",
       "       [0.2605959 , 0.14646044, 0.59294367],\n",
       "       [0.52725273, 0.30773103, 0.16501626],\n",
       "       [0.15075448, 0.5677313 , 0.28151423],\n",
       "       [0.3194947 , 0.15317135, 0.52733403],\n",
       "       [0.7807624 , 0.10966261, 0.10957496],\n",
       "       [0.77702224, 0.11214648, 0.11083119],\n",
       "       [0.19847302, 0.13661286, 0.66491413],\n",
       "       [0.17212303, 0.12952833, 0.6983486 ],\n",
       "       [0.7759861 , 0.11213915, 0.11187476],\n",
       "       [0.77411234, 0.1137557 , 0.1121319 ],\n",
       "       [0.7769308 , 0.1119205 , 0.11114869],\n",
       "       [0.7757853 , 0.11280932, 0.11140537],\n",
       "       [0.7606804 , 0.11593498, 0.12338473],\n",
       "       [0.11132465, 0.111297  , 0.7773784 ],\n",
       "       [0.11043085, 0.11014516, 0.779424  ],\n",
       "       [0.11099936, 0.11102007, 0.77798057],\n",
       "       [0.15730464, 0.46770984, 0.37498552],\n",
       "       [0.15032165, 0.56345016, 0.28622818],\n",
       "       [0.11195327, 0.111894  , 0.77615273],\n",
       "       [0.20593512, 0.13814053, 0.6559244 ],\n",
       "       [0.78095937, 0.10950927, 0.10953133],\n",
       "       [0.22715555, 0.63113385, 0.14171067],\n",
       "       [0.10854203, 0.7826203 , 0.10883769],\n",
       "       [0.14861391, 0.5701825 , 0.28120357],\n",
       "       [0.00504811, 0.00540219, 0.98954976],\n",
       "       [0.21202596, 0.2120868 , 0.57588726],\n",
       "       [0.21196283, 0.21196865, 0.5760685 ],\n",
       "       [0.16272566, 0.678218  , 0.15905634],\n",
       "       [0.32872573, 0.23875532, 0.43251902],\n",
       "       [0.16411452, 0.4210573 , 0.41482815],\n",
       "       [0.09490742, 0.2073094 , 0.6977832 ],\n",
       "       [0.22066465, 0.52924174, 0.2500936 ],\n",
       "       [0.12434787, 0.24380118, 0.6318509 ],\n",
       "       [0.1676654 , 0.13565677, 0.6966779 ],\n",
       "       [0.6539907 , 0.13122807, 0.21478124],\n",
       "       [0.26920277, 0.43024635, 0.3005508 ],\n",
       "       [0.12039495, 0.7759511 , 0.10365393],\n",
       "       [0.2119524 , 0.5761031 , 0.21194446],\n",
       "       [0.6482883 , 0.23657936, 0.1151323 ],\n",
       "       [0.20160809, 0.64879966, 0.1495922 ],\n",
       "       [0.2158256 , 0.5567613 , 0.22741312],\n",
       "       [0.13865064, 0.68486303, 0.17648636],\n",
       "       [0.01731278, 0.01795453, 0.96473277],\n",
       "       [0.21702763, 0.21391286, 0.5690595 ],\n",
       "       [0.21368085, 0.2124625 , 0.57385665],\n",
       "       [0.2119929 , 0.21195528, 0.5760518 ],\n",
       "       [0.05072436, 0.8858965 , 0.06337914],\n",
       "       [0.21499887, 0.5720131 , 0.21298806],\n",
       "       [0.21203014, 0.5759797 , 0.21199016],\n",
       "       [0.02378893, 0.97185034, 0.00436066],\n",
       "       [0.6479194 , 0.22876108, 0.12331954],\n",
       "       [0.57610655, 0.21194968, 0.21194378],\n",
       "       [0.10448463, 0.8294665 , 0.06604884],\n",
       "       [0.54627275, 0.31667155, 0.13705577],\n",
       "       [0.41801268, 0.3493664 , 0.23262095],\n",
       "       [0.6639589 , 0.23745432, 0.09858679],\n",
       "       [0.46466833, 0.30644906, 0.22888261],\n",
       "       [0.71155375, 0.18928176, 0.09916457],\n",
       "       [0.5727958 , 0.21298511, 0.21421914],\n",
       "       [0.51575637, 0.12180063, 0.36244297],\n",
       "       [0.16173655, 0.14771125, 0.69055223],\n",
       "       [0.6630608 , 0.12860204, 0.20833723],\n",
       "       [0.204784  , 0.16669789, 0.62851816],\n",
       "       [0.2627193 , 0.5407797 , 0.19650106],\n",
       "       [0.14605   , 0.4130693 , 0.44088066],\n",
       "       [0.33599785, 0.34873763, 0.3152645 ],\n",
       "       [0.80264944, 0.0985098 , 0.09884078],\n",
       "       [0.25218555, 0.71583337, 0.03198111],\n",
       "       [0.22684017, 0.5572233 , 0.21593656],\n",
       "       [0.397381  , 0.30105305, 0.301566  ],\n",
       "       [0.30740395, 0.13940467, 0.55319136],\n",
       "       [0.21197797, 0.21198559, 0.5760365 ],\n",
       "       [0.50033855, 0.1401963 , 0.3594652 ],\n",
       "       [0.48616314, 0.22664027, 0.28719658],\n",
       "       [0.04404363, 0.033277  , 0.9226794 ],\n",
       "       [0.21211241, 0.21258302, 0.57530457],\n",
       "       [0.21198042, 0.21204978, 0.57596976],\n",
       "       [0.0744182 , 0.07371835, 0.8518635 ],\n",
       "       [0.05109696, 0.05099073, 0.8979124 ],\n",
       "       [0.21194172, 0.21194206, 0.5761162 ],\n",
       "       [0.21194267, 0.2119456 , 0.5761118 ],\n",
       "       [0.02131368, 0.8924837 , 0.08620261],\n",
       "       [0.21609703, 0.5561718 , 0.22773114],\n",
       "       [0.21205914, 0.575964  , 0.21197686],\n",
       "       [0.21195781, 0.57608455, 0.21195768],\n",
       "       [0.07600822, 0.85012376, 0.07386806],\n",
       "       [0.21389244, 0.5693137 , 0.21679384]], dtype=float32)>"
      ]
     },
     "execution_count": 36,
     "metadata": {},
     "output_type": "execute_result"
    }
   ],
   "source": [
    "patients_predictions_array"
   ]
  },
  {
   "cell_type": "code",
   "execution_count": 9,
   "metadata": {},
   "outputs": [
    {
     "data": {
      "text/plain": [
       "array([[9.9897671e-01, 5.6596845e-04, 4.5732732e-04],\n",
       "       [9.9995899e-01, 4.9829773e-06, 3.5999510e-05],\n",
       "       [9.9985683e-01, 5.8040455e-06, 1.3728770e-04],\n",
       "       ...,\n",
       "       [7.6184165e-06, 9.9999106e-01, 1.2837530e-06],\n",
       "       [2.1637859e-05, 9.9997139e-01, 6.9874350e-06],\n",
       "       [2.8938684e-05, 9.9974960e-01, 2.2143488e-04]], dtype=float32)"
      ]
     },
     "execution_count": 9,
     "metadata": {},
     "output_type": "execute_result"
    }
   ],
   "source": [
    "cnn_pred"
   ]
  },
  {
   "cell_type": "code",
   "execution_count": 91,
   "metadata": {},
   "outputs": [],
   "source": [
    "cnn_pred=tf.nn.softmax(cnn_pred)"
   ]
  },
  {
   "cell_type": "code",
   "execution_count": 92,
   "metadata": {},
   "outputs": [],
   "source": [
    "patients_predictions_array=tf.nn.softmax(patients_predictions_array)"
   ]
  },
  {
   "cell_type": "code",
   "execution_count": 54,
   "metadata": {},
   "outputs": [
    {
     "data": {
      "text/plain": [
       "<tf.Tensor: shape=(96, 3), dtype=float32, numpy=\n",
       "array([[0.78329825, 0.1082501 , 0.10845172],\n",
       "       [0.7751934 , 0.11256459, 0.11224208],\n",
       "       [0.22484446, 0.1414296 , 0.63372594],\n",
       "       [0.11076509, 0.11076247, 0.77847236],\n",
       "       [0.11037184, 0.11036891, 0.7792593 ],\n",
       "       [0.10881405, 0.10879964, 0.7823863 ],\n",
       "       [0.6639645 , 0.1377483 , 0.19828711],\n",
       "       [0.40507913, 0.43603632, 0.15888461],\n",
       "       [0.42256218, 0.15694493, 0.4204929 ],\n",
       "       [0.2605959 , 0.14646044, 0.59294367],\n",
       "       [0.52725273, 0.30773103, 0.16501626],\n",
       "       [0.15075448, 0.5677313 , 0.28151423],\n",
       "       [0.3194947 , 0.15317135, 0.52733403],\n",
       "       [0.7807624 , 0.10966261, 0.10957496],\n",
       "       [0.77702224, 0.11214648, 0.11083119],\n",
       "       [0.19847302, 0.13661286, 0.66491413],\n",
       "       [0.17212303, 0.12952833, 0.6983486 ],\n",
       "       [0.7759861 , 0.11213915, 0.11187476],\n",
       "       [0.77411234, 0.1137557 , 0.1121319 ],\n",
       "       [0.7769308 , 0.1119205 , 0.11114869],\n",
       "       [0.7757853 , 0.11280932, 0.11140537],\n",
       "       [0.7606804 , 0.11593498, 0.12338473],\n",
       "       [0.11132465, 0.111297  , 0.7773784 ],\n",
       "       [0.11043085, 0.11014516, 0.779424  ],\n",
       "       [0.11099936, 0.11102007, 0.77798057],\n",
       "       [0.15730464, 0.46770984, 0.37498552],\n",
       "       [0.15032165, 0.56345016, 0.28622818],\n",
       "       [0.11195327, 0.111894  , 0.77615273],\n",
       "       [0.20593512, 0.13814053, 0.6559244 ],\n",
       "       [0.78095937, 0.10950927, 0.10953133],\n",
       "       [0.22715555, 0.63113385, 0.14171067],\n",
       "       [0.10854203, 0.7826203 , 0.10883769],\n",
       "       [0.14861391, 0.5701825 , 0.28120357],\n",
       "       [0.00504811, 0.00540219, 0.98954976],\n",
       "       [0.21202596, 0.2120868 , 0.57588726],\n",
       "       [0.21196283, 0.21196865, 0.5760685 ],\n",
       "       [0.16272566, 0.678218  , 0.15905634],\n",
       "       [0.32872573, 0.23875532, 0.43251902],\n",
       "       [0.16411452, 0.4210573 , 0.41482815],\n",
       "       [0.09490742, 0.2073094 , 0.6977832 ],\n",
       "       [0.22066465, 0.52924174, 0.2500936 ],\n",
       "       [0.12434787, 0.24380118, 0.6318509 ],\n",
       "       [0.1676654 , 0.13565677, 0.6966779 ],\n",
       "       [0.6539907 , 0.13122807, 0.21478124],\n",
       "       [0.26920277, 0.43024635, 0.3005508 ],\n",
       "       [0.12039495, 0.7759511 , 0.10365393],\n",
       "       [0.2119524 , 0.5761031 , 0.21194446],\n",
       "       [0.6482883 , 0.23657936, 0.1151323 ],\n",
       "       [0.20160809, 0.64879966, 0.1495922 ],\n",
       "       [0.2158256 , 0.5567613 , 0.22741312],\n",
       "       [0.13865064, 0.68486303, 0.17648636],\n",
       "       [0.01731278, 0.01795453, 0.96473277],\n",
       "       [0.21702763, 0.21391286, 0.5690595 ],\n",
       "       [0.21368085, 0.2124625 , 0.57385665],\n",
       "       [0.2119929 , 0.21195528, 0.5760518 ],\n",
       "       [0.05072436, 0.8858965 , 0.06337914],\n",
       "       [0.21499887, 0.5720131 , 0.21298806],\n",
       "       [0.21203014, 0.5759797 , 0.21199016],\n",
       "       [0.02378893, 0.97185034, 0.00436066],\n",
       "       [0.6479194 , 0.22876108, 0.12331954],\n",
       "       [0.57610655, 0.21194968, 0.21194378],\n",
       "       [0.10448463, 0.8294665 , 0.06604884],\n",
       "       [0.54627275, 0.31667155, 0.13705577],\n",
       "       [0.41801268, 0.3493664 , 0.23262095],\n",
       "       [0.6639589 , 0.23745432, 0.09858679],\n",
       "       [0.46466833, 0.30644906, 0.22888261],\n",
       "       [0.71155375, 0.18928176, 0.09916457],\n",
       "       [0.5727958 , 0.21298511, 0.21421914],\n",
       "       [0.51575637, 0.12180063, 0.36244297],\n",
       "       [0.16173655, 0.14771125, 0.69055223],\n",
       "       [0.6630608 , 0.12860204, 0.20833723],\n",
       "       [0.204784  , 0.16669789, 0.62851816],\n",
       "       [0.2627193 , 0.5407797 , 0.19650106],\n",
       "       [0.14605   , 0.4130693 , 0.44088066],\n",
       "       [0.33599785, 0.34873763, 0.3152645 ],\n",
       "       [0.80264944, 0.0985098 , 0.09884078],\n",
       "       [0.25218555, 0.71583337, 0.03198111],\n",
       "       [0.22684017, 0.5572233 , 0.21593656],\n",
       "       [0.397381  , 0.30105305, 0.301566  ],\n",
       "       [0.30740395, 0.13940467, 0.55319136],\n",
       "       [0.21197797, 0.21198559, 0.5760365 ],\n",
       "       [0.50033855, 0.1401963 , 0.3594652 ],\n",
       "       [0.48616314, 0.22664027, 0.28719658],\n",
       "       [0.04404363, 0.033277  , 0.9226794 ],\n",
       "       [0.21211241, 0.21258302, 0.57530457],\n",
       "       [0.21198042, 0.21204978, 0.57596976],\n",
       "       [0.0744182 , 0.07371835, 0.8518635 ],\n",
       "       [0.05109696, 0.05099073, 0.8979124 ],\n",
       "       [0.21194172, 0.21194206, 0.5761162 ],\n",
       "       [0.21194267, 0.2119456 , 0.5761118 ],\n",
       "       [0.02131368, 0.8924837 , 0.08620261],\n",
       "       [0.21609703, 0.5561718 , 0.22773114],\n",
       "       [0.21205914, 0.575964  , 0.21197686],\n",
       "       [0.21195781, 0.57608455, 0.21195768],\n",
       "       [0.07600822, 0.85012376, 0.07386806],\n",
       "       [0.21389244, 0.5693137 , 0.21679384]], dtype=float32)>"
      ]
     },
     "execution_count": 54,
     "metadata": {},
     "output_type": "execute_result"
    }
   ],
   "source": [
    "patients_predictions_array"
   ]
  },
  {
   "cell_type": "code",
   "execution_count": 94,
   "metadata": {},
   "outputs": [],
   "source": [
    "cnn_pred1=pd.DataFrame(cnn_pred)\n",
    "cnn_pred1.to_csv(\"uniquecnn.csv\")\n",
    "xgbm_preds1=pd.DataFrame(patients_predictions_array)\n",
    "xgbm_preds1.to_csv(\"uniquexgb.csv\")"
   ]
  },
  {
   "cell_type": "code",
   "execution_count": 11,
   "metadata": {},
   "outputs": [
    {
     "data": {
      "text/plain": [
       "<tf.Tensor: shape=(3232, 3), dtype=float32, numpy=\n",
       "array([[0.575742  , 0.21214055, 0.2121175 ],\n",
       "       [0.57610184, 0.2119458 , 0.21195237],\n",
       "       [0.57606447, 0.21195386, 0.21198173],\n",
       "       ...,\n",
       "       [0.21194386, 0.5761136 , 0.21194252],\n",
       "       [0.21194835, 0.57610637, 0.21194525],\n",
       "       [0.21196704, 0.5760251 , 0.21200784]], dtype=float32)>"
      ]
     },
     "execution_count": 11,
     "metadata": {},
     "output_type": "execute_result"
    }
   ],
   "source": [
    "cnn_pred"
   ]
  },
  {
   "cell_type": "code",
   "execution_count": 242,
   "metadata": {},
   "outputs": [
    {
     "ename": "",
     "evalue": "",
     "output_type": "error",
     "traceback": [
      "\u001b[1;31mThe Kernel crashed while executing code in the current cell or a previous cell. \n",
      "\u001b[1;31mPlease review the code in the cell(s) to identify a possible cause of the failure. \n",
      "\u001b[1;31mClick <a href='https://aka.ms/vscodeJupyterKernelCrash'>here</a> for more info. \n",
      "\u001b[1;31mView Jupyter <a href='command:jupyter.viewOutput'>log</a> for further details."
     ]
    }
   ],
   "source": [
    "cnn_pred1=pd.DataFrame(cnn_pred)\n",
    "cnn_pred1.to_csv(\"cnn.csv\")"
   ]
  },
  {
   "cell_type": "code",
   "execution_count": 152,
   "metadata": {},
   "outputs": [],
   "source": [
    "lgbm_preds1=pd.DataFrame(lgbm_preds)\n",
    "lgbm_preds1.to_csv(\"lgbm.csv\")"
   ]
  },
  {
   "cell_type": "markdown",
   "metadata": {},
   "source": [
    "Two blocks above were to save the predictions in case needed to cross-verify"
   ]
  },
  {
   "cell_type": "code",
   "execution_count": 96,
   "metadata": {},
   "outputs": [
    {
     "data": {
      "text/plain": [
       "TensorShape([3232, 3])"
      ]
     },
     "execution_count": 96,
     "metadata": {},
     "output_type": "execute_result"
    }
   ],
   "source": []
  },
  {
   "cell_type": "code",
   "execution_count": 97,
   "metadata": {},
   "outputs": [],
   "source": [
    "weighted_preds = (cnn_weight* patients_predictions_array) + (lgbm_weight * lgbm_preds)\n",
    "#weighted_preds = (cnn_weight* cnn_pred) + (xgbm_weight * xgbm_pred)\n",
    "#weighted_preds=xgbm_pred\n"
   ]
  },
  {
   "cell_type": "code",
   "execution_count": 45,
   "metadata": {},
   "outputs": [
    {
     "name": "stdout",
     "output_type": "stream",
     "text": [
      "tf.Tensor(\n",
      "[[0.694215   0.21295717 0.09282787]\n",
      " [0.69178355 0.21425152 0.09396498]\n",
      " [0.26922154 0.25898594 0.47179258]\n",
      " [0.4761939  0.15271577 0.3710903 ]\n",
      " [0.49233705 0.21359283 0.29407015]\n",
      " [0.4642514  0.23975334 0.29599524]\n",
      " [0.6525059  0.22623597 0.12125816]\n",
      " [0.22682256 0.25743392 0.51574355]\n",
      " [0.2882334  0.4931234  0.21864319]\n",
      " [0.17244515 0.15861617 0.6689387 ]\n",
      " [0.2527318  0.1771839  0.57008433]\n",
      " [0.23944235 0.5728052  0.18775244]\n",
      " [0.5374488  0.24637267 0.21617855]\n",
      " [0.37006164 0.49966636 0.130272  ]\n",
      " [0.6585324  0.24552757 0.09594008]\n",
      " [0.15652    0.17885269 0.6646273 ]\n",
      " [0.18886185 0.50497496 0.3061632 ]\n",
      " [0.37063855 0.50731575 0.12204567]\n",
      " [0.32678968 0.11899129 0.554219  ]\n",
      " [0.32763523 0.11844073 0.5539241 ]\n",
      " [0.674336   0.23426405 0.09139995]\n",
      " [0.6874296  0.21526265 0.09730777]\n",
      " [0.19685876 0.26577386 0.5373674 ]\n",
      " [0.17097199 0.50671756 0.32231045]\n",
      " [0.12785578 0.1181706  0.7539736 ]\n",
      " [0.28543323 0.5158012  0.19876558]\n",
      " [0.47754702 0.37655318 0.14589979]\n",
      " [0.17142871 0.5072422  0.32132906]\n",
      " [0.1563365  0.12630674 0.7173568 ]\n",
      " [0.33271542 0.17278235 0.49450225]\n",
      " [0.49975386 0.39645362 0.10379256]\n",
      " [0.49178812 0.41526824 0.09294367]\n",
      " [0.23406565 0.39013034 0.37580404]\n",
      " [0.14414553 0.4595537  0.3963008 ]\n",
      " [0.38113657 0.23928207 0.3795814 ]\n",
      " [0.15814482 0.14845517 0.6934    ]\n",
      " [0.1846506  0.670233   0.14511642]\n",
      " [0.26047674 0.30173334 0.43778995]\n",
      " [0.21415256 0.35807097 0.42777646]\n",
      " [0.48769772 0.24267498 0.2696273 ]\n",
      " [0.5077998  0.3591938  0.13300642]\n",
      " [0.20120876 0.30615494 0.49263626]\n",
      " [0.50361615 0.22560851 0.2707754 ]\n",
      " [0.38043278 0.45932588 0.16024134]\n",
      " [0.22339194 0.5870069  0.1896011 ]\n",
      " [0.25658306 0.6294628  0.11395415]\n",
      " [0.46772876 0.4059742  0.12629706]\n",
      " [0.58988523 0.3121466  0.09796812]\n",
      " [0.20311353 0.65257293 0.14431351]\n",
      " [0.19370255 0.65444434 0.1518531 ]\n",
      " [0.22496401 0.62344074 0.1515953 ]\n",
      " [0.0997498  0.09025094 0.8099993 ]\n",
      " [0.17027627 0.22862706 0.6010967 ]\n",
      " [0.15098464 0.22427815 0.62473726]\n",
      " [0.15815383 0.14845116 0.693395  ]\n",
      " [0.24133788 0.6577677  0.10089442]\n",
      " [0.4562413  0.4156723  0.12808639]\n",
      " [0.48396748 0.38729036 0.12874216]\n",
      " [0.39887834 0.53562343 0.06549816]\n",
      " [0.4204964  0.46062708 0.11887655]\n",
      " [0.5741542  0.30006772 0.12577811]\n",
      " [0.25180998 0.6455174  0.10267262]\n",
      " [0.565204   0.3314843  0.1033117 ]\n",
      " [0.54576224 0.31930637 0.1349314 ]\n",
      " [0.5996991  0.30724138 0.09305955]\n",
      " [0.5407227  0.32841754 0.13085976]\n",
      " [0.61478835 0.29326737 0.09194434]\n",
      " [0.5921972  0.278392   0.12941086]\n",
      " [0.25219527 0.18719676 0.56060797]\n",
      " [0.14362714 0.19303273 0.66334015]\n",
      " [0.3556292  0.2836326  0.36073822]\n",
      " [0.45317686 0.29407772 0.25274542]\n",
      " [0.20777068 0.64964986 0.14257948]\n",
      " [0.13837096 0.20878538 0.65284365]\n",
      " [0.49573553 0.34616035 0.15810412]\n",
      " [0.642117   0.26603577 0.0918472 ]\n",
      " [0.29612026 0.6114274  0.0924523 ]\n",
      " [0.19700693 0.654583   0.14841014]\n",
      " [0.21377027 0.1751805  0.6110493 ]\n",
      " [0.22078022 0.52214104 0.25707877]\n",
      " [0.5198709  0.23255354 0.24757561]\n",
      " [0.57046    0.25655535 0.17298469]\n",
      " [0.5599384  0.2872971  0.1527645 ]\n",
      " [0.4145353  0.24646592 0.33899882]\n",
      " [0.2428903  0.29946247 0.45764726]\n",
      " [0.4553358  0.3076833  0.23698089]\n",
      " [0.20322303 0.25996068 0.5368163 ]\n",
      " [0.42941853 0.23460224 0.33597925]\n",
      " [0.22029349 0.3086346  0.47107193]\n",
      " [0.24636473 0.48022765 0.27340764]\n",
      " [0.10150027 0.4164645  0.48203525]\n",
      " [0.4840387  0.29398775 0.22197354]\n",
      " [0.15852034 0.32119024 0.5202894 ]\n",
      " [0.19254223 0.66024137 0.14721647]\n",
      " [0.44316092 0.46953356 0.08730553]\n",
      " [0.45509267 0.4143536  0.13055375]], shape=(96, 3), dtype=float32)\n"
     ]
    }
   ],
   "source": [
    "print(weighted_preds)\n"
   ]
  },
  {
   "cell_type": "code",
   "execution_count": 110,
   "metadata": {},
   "outputs": [
    {
     "name": "stdout",
     "output_type": "stream",
     "text": [
      "      Unnamed: 0  index        PTID   RID  Phase  Group  PTGENDER_-4.0  \\\n",
      "0              1      1  002_S_0413   413  ADNI1    0.0          False   \n",
      "1              1      1  002_S_0413   413  ADNI1    0.0          False   \n",
      "2              1      1  002_S_0413   413  ADNI1    0.0          False   \n",
      "3              1      1  002_S_0413   413  ADNI1    0.0          False   \n",
      "4              1      1  002_S_0413   413  ADNI1    0.0          False   \n",
      "...          ...    ...         ...   ...    ...    ...            ...   \n",
      "3227        1953   1953  136_S_1227  1227  ADNI1    1.0          False   \n",
      "3228        1953   1953  136_S_1227  1227  ADNI1    1.0          False   \n",
      "3229        1953   1953  136_S_1227  1227  ADNI1    1.0          False   \n",
      "3230        1953   1953  136_S_1227  1227  ADNI1    1.0          False   \n",
      "3231        1953   1953  136_S_1227  1227  ADNI1    1.0          False   \n",
      "\n",
      "      PTGENDER_1.0  PTGENDER_2.0  PTWORK_-4.0  ...  PHC_MEM    PTDOB  PHC_LAN  \\\n",
      "0            False          True         True  ...    1.287  12/1929    2.594   \n",
      "1            False          True         True  ...    1.287  12/1929    2.594   \n",
      "2            False          True         True  ...    1.287  12/1929    2.594   \n",
      "3            False          True         True  ...    1.287  12/1929    2.594   \n",
      "4            False          True         True  ...    1.287  12/1929    2.594   \n",
      "...            ...           ...          ...  ...      ...      ...      ...   \n",
      "3227         False          True         True  ...    0.284  06/1942    0.727   \n",
      "3228         False          True         True  ...    0.284  06/1942    0.727   \n",
      "3229         False          True         True  ...    0.284  06/1942    0.727   \n",
      "3230         False          True         True  ...    0.284  06/1942    0.727   \n",
      "3231         False          True         True  ...    0.284  06/1942    0.727   \n",
      "\n",
      "         VISDATE  PTDOBYY  PTADBEG  PTCOGBEG  PTADDX  Class_Label  \\\n",
      "0     2006-04-06   1929.0     -4.0       NaN     NaN          NaN   \n",
      "1     2006-04-06   1929.0     -4.0       NaN     NaN          NaN   \n",
      "2     2006-04-06   1929.0     -4.0       NaN     NaN          NaN   \n",
      "3     2006-04-06   1929.0     -4.0       NaN     NaN          NaN   \n",
      "4     2006-04-06   1929.0     -4.0       NaN     NaN          NaN   \n",
      "...          ...      ...      ...       ...     ...          ...   \n",
      "3227  2007-01-29   1942.0     -4.0       NaN     NaN          NaN   \n",
      "3228  2007-01-29   1942.0     -4.0       NaN     NaN          NaN   \n",
      "3229  2007-01-29   1942.0     -4.0       NaN     NaN          NaN   \n",
      "3230  2007-01-29   1942.0     -4.0       NaN     NaN          NaN   \n",
      "3231  2007-01-29   1942.0     -4.0       NaN     NaN          NaN   \n",
      "\n",
      "                                             Image_File  \n",
      "0     PREPROCESS_IMAGES/alzheimer_new_2/Axial\\CN\\CN0...  \n",
      "1     PREPROCESS_IMAGES/alzheimer_new_2/Axial\\CN\\CN0...  \n",
      "2     PREPROCESS_IMAGES/alzheimer_new_2/Axial\\CN\\CN0...  \n",
      "3     PREPROCESS_IMAGES/alzheimer_new_2/Axial\\CN\\CN0...  \n",
      "4     PREPROCESS_IMAGES/alzheimer_new_2/Axial\\CN\\CN0...  \n",
      "...                                                 ...  \n",
      "3227  PREPROCESS_IMAGES/alzheimer_new_2/Axial\\CI\\CI1...  \n",
      "3228  PREPROCESS_IMAGES/alzheimer_new_2/Axial\\CI\\CI1...  \n",
      "3229  PREPROCESS_IMAGES/alzheimer_new_2/Axial\\CI\\CI1...  \n",
      "3230  PREPROCESS_IMAGES/alzheimer_new_2/Axial\\CI\\CI1...  \n",
      "3231  PREPROCESS_IMAGES/alzheimer_new_2/Axial\\CI\\CI1...  \n",
      "\n",
      "[3232 rows x 125 columns]\n"
     ]
    }
   ],
   "source": [
    "print(merged_data)"
   ]
  },
  {
   "cell_type": "markdown",
   "metadata": {},
   "source": [
    "NO NEED--ONYL FOR ANALYSIS"
   ]
  },
  {
   "cell_type": "code",
   "execution_count": 64,
   "metadata": {},
   "outputs": [],
   "source": [
    "merged_data.to_csv(\"merged.csv\")"
   ]
  },
  {
   "cell_type": "code",
   "execution_count": 57,
   "metadata": {},
   "outputs": [],
   "source": [
    "merged_data.to_csv(\"merged_new.csv\")"
   ]
  },
  {
   "cell_type": "code",
   "execution_count": 41,
   "metadata": {},
   "outputs": [],
   "source": [
    "merged_data['Group'] = merged_data.groupby('Class_Label')['Group'].transform('first')\n"
   ]
  },
  {
   "cell_type": "code",
   "execution_count": 127,
   "metadata": {},
   "outputs": [
    {
     "data": {
      "text/plain": [
       "TensorShape([3232, 3])"
      ]
     },
     "execution_count": 127,
     "metadata": {},
     "output_type": "execute_result"
    }
   ],
   "source": [
    "weighted_preds.shape"
   ]
  },
  {
   "cell_type": "markdown",
   "metadata": {},
   "source": [
    "HERE"
   ]
  },
  {
   "cell_type": "code",
   "execution_count": 99,
   "metadata": {},
   "outputs": [
    {
     "data": {
      "text/plain": [
       "array([0, 0, 2, 0, 0, 0, 0, 2, 1, 2, 2, 1, 0, 1, 0, 2, 1, 1, 2, 2, 0, 0,\n",
       "       2, 1, 2, 1, 0, 1, 2, 2, 0, 0, 2, 1, 0, 2, 1, 2, 2, 0, 0, 2, 0, 1,\n",
       "       1, 1, 0, 0, 1, 1, 1, 2, 2, 2, 2, 1, 0, 0, 0, 1, 0, 1, 0, 0, 0, 0,\n",
       "       0, 0, 2, 2, 2, 0, 1, 2, 0, 0, 1, 1, 2, 1, 0, 0, 0, 0, 2, 0, 2, 0,\n",
       "       2, 1, 2, 0, 2, 1, 0, 0], dtype=int64)"
      ]
     },
     "execution_count": 99,
     "metadata": {},
     "output_type": "execute_result"
    }
   ],
   "source": [
    "y_pred = np.argmax(weighted_preds, axis=1)\n",
    "y_pred\n"
   ]
  },
  {
   "cell_type": "code",
   "execution_count": 100,
   "metadata": {},
   "outputs": [
    {
     "data": {
      "text/plain": [
       "0     0.0\n",
       "1     0.0\n",
       "2     2.0\n",
       "3     2.0\n",
       "4     0.0\n",
       "     ... \n",
       "91    2.0\n",
       "92    2.0\n",
       "93    1.0\n",
       "94    1.0\n",
       "95    1.0\n",
       "Name: Group, Length: 96, dtype: float64"
      ]
     },
     "execution_count": 100,
     "metadata": {},
     "output_type": "execute_result"
    }
   ],
   "source": [
    "y_true=merged_data['Group']\n",
    "y_true"
   ]
  },
  {
   "cell_type": "code",
   "execution_count": 65,
   "metadata": {},
   "outputs": [
    {
     "name": "stdout",
     "output_type": "stream",
     "text": [
      "Class_Label\n",
      "AD    1124\n",
      "CI    1074\n",
      "CN    1034\n",
      "Name: count, dtype: int64\n"
     ]
    }
   ],
   "source": [
    "#THESE WERE CLASS COUNTS"
   ]
  },
  {
   "cell_type": "markdown",
   "metadata": {},
   "source": [
    "EVALUATION METRICS"
   ]
  },
  {
   "cell_type": "code",
   "execution_count": 52,
   "metadata": {},
   "outputs": [
    {
     "name": "stdout",
     "output_type": "stream",
     "text": [
      "Recall for class 0: 0.7647058823529411\n",
      "Recall for class 1: 0.6551724137931034\n",
      "Recall for class 2: 0.8787878787878788\n"
     ]
    }
   ],
   "source": [
    "conf_matrix = confusion_matrix(y_true, y_pred)\n",
    "\n",
    "num_classes = conf_matrix.shape[0]\n",
    "recall_per_class = [conf_matrix[i, i] / np.sum(conf_matrix[i, :]) for i in range(num_classes)]\n",
    "\n",
    "avg_recall = np.mean(recall_per_class)\n",
    "\n",
    "for i in range(num_classes):\n",
    "    print(f'Recall for class {i}: {recall_per_class[i]}')\n"
   ]
  },
  {
   "cell_type": "code",
   "execution_count": 103,
   "metadata": {},
   "outputs": [
    {
     "name": "stdout",
     "output_type": "stream",
     "text": [
      "              precision    recall  f1-score   support\n",
      "\n",
      "  class_0:CN       0.66      0.79      0.72        34\n",
      " class_1:MCI       0.72      0.62      0.67        29\n",
      "  class 2:AD       1.00      0.91      0.95        33\n",
      "\n",
      "    accuracy                           0.78        96\n",
      "   macro avg       0.79      0.77      0.78        96\n",
      "weighted avg       0.79      0.78      0.78        96\n",
      "\n"
     ]
    }
   ],
   "source": [
    "from sklearn.metrics import classification_report\n",
    "\n",
    "report = classification_report(y_true, y_pred, target_names=['class_0:CN', 'class_1:MCI','class 2:AD'])\n",
    "\n",
    "print(report)\n"
   ]
  }
 ],
 "metadata": {
  "kernelspec": {
   "display_name": "Python 3",
   "language": "python",
   "name": "python3"
  },
  "language_info": {
   "codemirror_mode": {
    "name": "ipython",
    "version": 3
   },
   "file_extension": ".py",
   "mimetype": "text/x-python",
   "name": "python",
   "nbconvert_exporter": "python",
   "pygments_lexer": "ipython3",
   "version": "3.11.9"
  }
 },
 "nbformat": 4,
 "nbformat_minor": 2
}
